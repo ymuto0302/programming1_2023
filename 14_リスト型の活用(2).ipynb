{
  "cells": [
    {
      "cell_type": "markdown",
      "metadata": {
        "id": "view-in-github",
        "colab_type": "text"
      },
      "source": [
        "<a href=\"https://colab.research.google.com/github/ymuto0302/programming1_2023/blob/main/14_%E3%83%AA%E3%82%B9%E3%83%88%E5%9E%8B%E3%81%AE%E6%B4%BB%E7%94%A8(2).ipynb\" target=\"_parent\"><img src=\"https://colab.research.google.com/assets/colab-badge.svg\" alt=\"Open In Colab\"/></a>"
      ]
    },
    {
      "cell_type": "markdown",
      "metadata": {
        "id": "G2YQDAVGFVoJ"
      },
      "source": [
        "# 【解説】14_リスト型の活用(2)：成績の評価／検索履歴／レアな値を探せ"
      ]
    },
    {
      "cell_type": "markdown",
      "metadata": {
        "id": "uz3CbxWVFVoc"
      },
      "source": [
        "---\n",
        "## 【課題1・成績の評価】\n",
        "次のように５人の学生の成績(点数)が与えられる。これをソートし，かつ平均点以上ならば☆をつけて表示せよ。\n",
        "```\n",
        "scores = [90, 58, 70, 85, 78]\n",
        "```\n",
        "\n",
        "実行結果のイメージ：\n",
        "```\n",
        "平均点 76.2 点\n",
        "1位は 90 点 ☆\n",
        "2位は 85 点 ☆\n",
        "3位は 78 点 ☆\n",
        "4位は 70 点\n",
        "5位は 58 点\n",
        "```"
      ]
    },
    {
      "cell_type": "code",
      "execution_count": null,
      "metadata": {
        "scrolled": true,
        "id": "UFNnkRT-FVoh",
        "outputId": "93ce18be-226d-4d6c-bf16-d2f24d15ddb2",
        "colab": {
          "base_uri": "https://localhost:8080/"
        }
      },
      "outputs": [
        {
          "output_type": "stream",
          "name": "stdout",
          "text": [
            "平均点は 76.2点\n",
            "1位は 90点 ☆\n",
            "2位は 85点 ☆\n",
            "3位は 78点 ☆\n",
            "4位は 70点\n",
            "5位は 58点\n"
          ]
        }
      ],
      "source": [
        "scores = [90, 58, 70, 85, 78]\n",
        "\n",
        "scores.sort(reverse=True) # 降順にソート\n",
        "\n",
        "# 平均点の算出\n",
        "mean = sum(scores) / len(scores)\n",
        "print(\"平均点は {}点\".format(mean))\n",
        "\n",
        "# 順位をつけて成績を表示\n",
        "for idx in range(len(scores)):\n",
        "    if scores[idx] >= mean:\n",
        "        print(\"{}位は {}点 ☆\".format(idx+1, scores[idx]))\n",
        "    else:\n",
        "        print(\"{}位は {}点\".format(idx+1, scores[idx]))"
      ]
    },
    {
      "cell_type": "markdown",
      "source": [
        "(解説) 最初に，与えられたリスト `scores` のソートは１度，行えば十分である。\n",
        "降順ソートした段階で，成績上位が先頭に，成績下位が末尾に存在するはずである。\n",
        "\n",
        "また，「平均点以上か未満か？」を判定するため，予め平均点を計算しておく。上記のコードでは「リストの要素の和を求める関数 `sum()」と「リスト内の要素数を求める関数 `len()」を利用した。\n",
        "\n",
        "あとは `for` ループを回しながら，「平均点以上か否かの判定」を行えばよいだろう。"
      ],
      "metadata": {
        "id": "8lowEbL2P_Cg"
      }
    },
    {
      "cell_type": "markdown",
      "metadata": {
        "id": "yLB9G52wFVor"
      },
      "source": [
        "---\n",
        "## 【課題2・検索履歴】\n",
        "Google 等でキーワードを入力して検索する。このキーワードの入力履歴を管理したい。\n",
        "例えば，記憶しておく履歴数を３個までとした場合，\n",
        "- `W1 → W2 → W3` という順番で検索すると，\n",
        "履歴は新しい方を先頭として `[W3, W2, W1]` が与えられる。\n",
        "- ここで次に `W1` を検索した場合は `[W1, W3, W2]` へ順番が入れ替わる。\n",
        "- また，，(W1 でなく ) `W2` を検索した場合， ，`[W2, W3, W1]` という順番に履歴が更新される。\n",
        "\n",
        "あらかじめ「記憶できる履歴の数」を 5 や 10 に固定した上で，上記の仕様を満たすコードを作れ。\n"
      ]
    },
    {
      "cell_type": "code",
      "source": [
        "history = [] # 履歴を管理するリスト\n",
        "\n",
        "max_history = int(input(\"記憶しておく履歴数は？\"))\n",
        "\n",
        "while True:\n",
        "    keyword = input(\"検索文字列：\")\n",
        "\n",
        "    # \"end\" が入力されたらプログラム終了\n",
        "    if keyword == \"end\":\n",
        "        break\n",
        "\n",
        "    # 既に履歴内に検索文字列が含まれる場合，それを削除する\n",
        "    if keyword in history:\n",
        "        history.remove(keyword)\n",
        "\n",
        "    # 履歴の最後に検索文字列を追加\n",
        "    history.append(keyword)\n",
        "\n",
        "    # 履歴が「記憶しておく履歴数」を越えた場合，最古の履歴を削除する\n",
        "    if len(history) > max_history:\n",
        "        del history[0]\n",
        "\n",
        "    # 見た目，順番を反転させて表示\n",
        "    print(list(reversed(history)))"
      ],
      "metadata": {
        "id": "M6P9TGxUYW6D",
        "colab": {
          "base_uri": "https://localhost:8080/"
        },
        "outputId": "da4086d8-6970-4018-c31f-8f5065347fdd"
      },
      "execution_count": null,
      "outputs": [
        {
          "name": "stdout",
          "output_type": "stream",
          "text": [
            "記憶しておく履歴数は？4\n",
            "検索文字列：apple\n",
            "['apple']\n",
            "検索文字列：lemon\n",
            "['lemon', 'apple']\n",
            "検索文字列：melon\n",
            "['melon', 'lemon', 'apple']\n",
            "検索文字列：grape\n",
            "['grape', 'melon', 'lemon', 'apple']\n",
            "検索文字列：banana\n",
            "['banana', 'grape', 'melon', 'lemon']\n",
            "検索文字列：melon\n",
            "['melon', 'banana', 'grape', 'lemon']\n",
            "検索文字列：end\n"
          ]
        }
      ]
    },
    {
      "cell_type": "markdown",
      "source": [
        "(解説) この課題は，文章だけで解説するのは困難である。\n",
        "\n",
        "ポイントは以下のとおり：\n",
        "- 「リストの末尾に新たな要素を追加する `append()` メソッド」は存在するが，「先頭に要素を追加するメソッド」は存在しないことから，内部的に「新たに入力された検索文字列をリストの末尾に追加する」という方針とする。\n",
        "- 既にリスト中に存在する文字列が再度，入力された場合，以前の値を削除する（`remove()`メソッド)\n",
        "- 予め定めた履歴長を超えた場合，最古の履歴，すなわち「リストの先頭要素」を削除する (`del` 文)\n",
        "- 表示の際，履歴を格納した反転して表示する"
      ],
      "metadata": {
        "id": "3ekXuajXpybA"
      }
    },
    {
      "cell_type": "markdown",
      "source": [
        "---\n",
        "## 【課題3・レアな値を探せ】\n",
        "1 ～ 100 までの数値がランダムに並んだ，計 2 00 個から構成される数値列（つまり，長～いリスト）\n",
        "がある。この数値列において「１回しか現れない値」を全て見つけ出すコードを書け。\n"
      ],
      "metadata": {
        "id": "GapGX36m_Gpi"
      }
    },
    {
      "cell_type": "markdown",
      "source": [
        "模範的なコードは以下のとおり："
      ],
      "metadata": {
        "id": "wUDIr30xGT57"
      }
    },
    {
      "cell_type": "code",
      "source": [
        "nums = [62, 70, 25, 20, 1, 80, 79, 71, 56, 80, 83, 8, 38, 89, 79, 50, 1, 64, 20, 8, 52, 82, 47, 17,\n",
        "        79, 36, 75, 21, 95, 33, 63, 43, 28, 95, 63, 57, 10, 49, 36, 34, 79, 93, 13, 52, 57, 21, 22,\n",
        "        88, 83, 51, 7, 88, 53, 11, 67, 18, 90, 97, 58, 43, 81, 10, 72, 25, 30, 26, 45, 55, 46, 63,\n",
        "        69, 36, 81, 73, 26, 46, 16, 66, 94, 20, 32, 40, 100, 93, 25, 40, 16, 84, 93, 31, 30, 31, 96,\n",
        "        5, 66, 92, 81, 73, 98, 94, 30, 50, 93, 17, 46, 99, 15, 45, 4, 62, 92, 36, 42, 17, 18, 9, 14,\n",
        "        81, 53, 42, 39, 26, 8, 88, 52, 20, 67, 58, 83, 1, 19, 36, 78, 34, 92, 45, 89, 43, 7, 73, 42,\n",
        "        99, 14, 100, 96, 46, 82, 75, 47, 33, 53, 83, 17, 63, 10, 23, 92, 19, 50, 51, 1, 16, 98, 63,\n",
        "        74, 71, 100, 69, 76, 55, 3, 4, 82, 60, 57, 99, 56, 87, 80, 5, 70, 61, 28, 47, 11, 65, 47, 95,\n",
        "        74, 28, 60, 40, 79, 70, 91, 8, 41, 66, 9, 27]\n",
        "\n",
        "nums.sort()\n",
        "result = [] # １回しか現れない値を格納するリスト\n",
        "\n",
        "while len(nums) > 0:\n",
        "    target = nums[0] # リストの先頭要素\n",
        "\n",
        "    # ２番目以降に同じ数値があるかチェックする\n",
        "    if target not in nums[1:]: # 同じ数値がなければ「レア」と判定し，result へ格納\n",
        "        result.append(target)\n",
        "        del nums[0]\n",
        "    else:\n",
        "        # 同じ数値が何個，含まれるか分からないため，無限ループで処理する\n",
        "        while True:\n",
        "            if target in nums[1:]:\n",
        "                idx = nums[1:].index(target)\n",
        "                del nums[idx]\n",
        "            else:\n",
        "                del nums[0]\n",
        "                break\n",
        "\n",
        "print(result)"
      ],
      "metadata": {
        "colab": {
          "base_uri": "https://localhost:8080/"
        },
        "id": "GW8O-t9wP31r",
        "outputId": "8375c250-095e-4634-ee90-4135ee934f25"
      },
      "execution_count": null,
      "outputs": [
        {
          "output_type": "stream",
          "name": "stdout",
          "text": [
            "[3, 13, 15, 22, 23, 27, 32, 38, 39, 41, 49, 61, 64, 65, 72, 76, 78, 84, 87, 90, 91, 97]\n"
          ]
        }
      ]
    },
    {
      "cell_type": "markdown",
      "source": [
        "(解説) 200個の数値を対象に解説するのは難しいため，計７個の値がリスト `nums` に格納されていると仮定する。\n",
        "\n",
        "リスト `nums` を予めソートしておく。この時点で `nums` の中身が次のようになっているとしよう。\n",
        "```\n",
        "3, 5, 5, 5, 7, 9, 9\n",
        "```\n",
        "\n",
        "最初に先頭の要素 `nums[0]`，すなわち値 `3` がそれ以降（すなわち，`nums[1:]`）に含まれるか，チェックする。もし含まれなければ，「１回しか現れない値」である。\n",
        "この値 `3` を結果保存用のリスト `result` へ預ける。そして，先頭要素を削除する(`del` 文)。\n",
        "\n",
        "この時点で `nums` の中身は次のように変化している。\n",
        "```\n",
        "5, 5, 5, 7, 9, 9\n",
        "```\n",
        "\n",
        "再度，先頭要素 `nums[0]` (値は `5`) をターゲットとして，`nums[1:]` に `5` が含まれるかチェックする。この場合は「含まれている」からそれを削除する。ただし，`5` は何個，含まれるか未知だから，無限ループを用いて最後の `5` まですべてを見つけ出す。\n",
        "以上により `nums` の中身は次のようになる。\n",
        "```\n",
        "7, 9, 9\n",
        "```\n",
        "\n",
        "・・・・ということで，言葉のみでは分かり難いだろうから，変数 `nums` と `result' がどのように変化するかを明示するコードを以下に示す。"
      ],
      "metadata": {
        "id": "B4r2PegQGZ3q"
      }
    },
    {
      "cell_type": "code",
      "source": [
        "nums = [1,1,1,2,3,3,4,5,5,6,7,7,7,8,9,9,9] # 変数 nums はソート済と仮定する\n",
        "result = [] # １回しか現れない値を格納するリスト\n",
        "\n",
        "while len(nums) > 0:\n",
        "    # リスト nums / result の要するを確認するための表示\n",
        "    print(\"=========================\")\n",
        "    print(\"オリジナル: {}\".format(nums))\n",
        "    print(\"レアさん: {}\".format(result))\n",
        "\n",
        "    # １回しか現れない数値を リスト result へ格納する\n",
        "    target = nums[0]\n",
        "    # print(target)\n",
        "    if target not in nums[1:]:\n",
        "        result.append(target)\n",
        "        del nums[0]\n",
        "    else:\n",
        "        while True:\n",
        "            if target in nums[1:]:\n",
        "                idx = nums[1:].index(target)\n",
        "                del nums[idx]\n",
        "            else:\n",
        "                del nums[0]\n",
        "                break"
      ],
      "metadata": {
        "id": "lqfLHZNFscGF",
        "colab": {
          "base_uri": "https://localhost:8080/"
        },
        "outputId": "28c2135d-dcc2-4e4b-b615-55f6860da868"
      },
      "execution_count": null,
      "outputs": [
        {
          "output_type": "stream",
          "name": "stdout",
          "text": [
            "=========================\n",
            "オリジナル: [1, 1, 1, 2, 3, 3, 4, 5, 5, 6, 7, 7, 7, 8, 9, 9, 9]\n",
            "レアさん: []\n",
            "=========================\n",
            "オリジナル: [2, 3, 3, 4, 5, 5, 6, 7, 7, 7, 8, 9, 9, 9]\n",
            "レアさん: []\n",
            "=========================\n",
            "オリジナル: [3, 3, 4, 5, 5, 6, 7, 7, 7, 8, 9, 9, 9]\n",
            "レアさん: [2]\n",
            "=========================\n",
            "オリジナル: [4, 5, 5, 6, 7, 7, 7, 8, 9, 9, 9]\n",
            "レアさん: [2]\n",
            "=========================\n",
            "オリジナル: [5, 5, 6, 7, 7, 7, 8, 9, 9, 9]\n",
            "レアさん: [2, 4]\n",
            "=========================\n",
            "オリジナル: [6, 7, 7, 7, 8, 9, 9, 9]\n",
            "レアさん: [2, 4]\n",
            "=========================\n",
            "オリジナル: [7, 7, 7, 8, 9, 9, 9]\n",
            "レアさん: [2, 4, 6]\n",
            "=========================\n",
            "オリジナル: [8, 9, 9, 9]\n",
            "レアさん: [2, 4, 6]\n",
            "=========================\n",
            "オリジナル: [9, 9, 9]\n",
            "レアさん: [2, 4, 6, 8]\n"
          ]
        }
      ]
    },
    {
      "cell_type": "markdown",
      "source": [
        "(参考) 実はとても簡単なコードが存在する。  \n",
        "リストに対する `count()` メソッドを用いて，「特定の値が何個，リスト中に含まれるか」をカウントし，それが `1` ならば結果格納用リストへ記録していく方法である。"
      ],
      "metadata": {
        "id": "QNfPme9oXPaM"
      }
    },
    {
      "cell_type": "code",
      "source": [
        "nums = [62, 70, 25, 20, 1, 80, 79, 71, 56, 80, 83, 8, 38, 89, 79, 50, 1, 64, 20, 8, 52, 82, 47, 17,\n",
        "        79, 36, 75, 21, 95, 33, 63, 43, 28, 95, 63, 57, 10, 49, 36, 34, 79, 93, 13, 52, 57, 21, 22,\n",
        "        88, 83, 51, 7, 88, 53, 11, 67, 18, 90, 97, 58, 43, 81, 10, 72, 25, 30, 26, 45, 55, 46, 63,\n",
        "        69, 36, 81, 73, 26, 46, 16, 66, 94, 20, 32, 40, 100, 93, 25, 40, 16, 84, 93, 31, 30, 31, 96,\n",
        "        5, 66, 92, 81, 73, 98, 94, 30, 50, 93, 17, 46, 99, 15, 45, 4, 62, 92, 36, 42, 17, 18, 9, 14,\n",
        "        81, 53, 42, 39, 26, 8, 88, 52, 20, 67, 58, 83, 1, 19, 36, 78, 34, 92, 45, 89, 43, 7, 73, 42,\n",
        "        99, 14, 100, 96, 46, 82, 75, 47, 33, 53, 83, 17, 63, 10, 23, 92, 19, 50, 51, 1, 16, 98, 63,\n",
        "        74, 71, 100, 69, 76, 55, 3, 4, 82, 60, 57, 99, 56, 87, 80, 5, 70, 61, 28, 47, 11, 65, 47, 95,\n",
        "        74, 28, 60, 40, 79, 70, 91, 8, 41, 66, 9, 27]\n",
        "\n",
        "nums.sort()\n",
        "result = [] # １回しか現れない値を格納するリスト\n",
        "\n",
        "for num in nums:\n",
        "    # リストの count() メソッドを利用して，リスト中の num の出現回数を数える\n",
        "    if nums.count(num) == 1:\n",
        "        result.append(num)\n",
        "\n",
        "print(result)"
      ],
      "metadata": {
        "colab": {
          "base_uri": "https://localhost:8080/"
        },
        "id": "ijtBifqHXUL5",
        "outputId": "5542b4d9-a588-4d63-83d9-313981fe77ee"
      },
      "execution_count": null,
      "outputs": [
        {
          "output_type": "stream",
          "name": "stdout",
          "text": [
            "[3, 13, 15, 22, 23, 27, 32, 38, 39, 41, 49, 61, 64, 65, 72, 76, 78, 84, 87, 90, 91, 97]\n"
          ]
        }
      ]
    },
    {
      "cell_type": "markdown",
      "source": [
        "(余談) ちなみに ChatGPT に課題の文章を与えたところ，辞書型 (dictionary) を利用したコードを教えてくれました。ある目的を達成するのに様々な考え方がある，ということ。"
      ],
      "metadata": {
        "id": "krv-D3lqaT3y"
      }
    }
  ],
  "metadata": {
    "kernelspec": {
      "display_name": "Python 3",
      "language": "python",
      "name": "python3"
    },
    "language_info": {
      "codemirror_mode": {
        "name": "ipython",
        "version": 3
      },
      "file_extension": ".py",
      "mimetype": "text/x-python",
      "name": "python",
      "nbconvert_exporter": "python",
      "pygments_lexer": "ipython3",
      "version": "3.8.5"
    },
    "colab": {
      "provenance": [],
      "include_colab_link": true
    }
  },
  "nbformat": 4,
  "nbformat_minor": 0
}