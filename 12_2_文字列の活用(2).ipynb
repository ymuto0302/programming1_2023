{
  "cells": [
    {
      "cell_type": "markdown",
      "metadata": {
        "id": "view-in-github",
        "colab_type": "text"
      },
      "source": [
        "<a href=\"https://colab.research.google.com/github/ymuto0302/programming1_2023/blob/main/12_2_%E6%96%87%E5%AD%97%E5%88%97%E3%81%AE%E6%B4%BB%E7%94%A8(2).ipynb\" target=\"_parent\"><img src=\"https://colab.research.google.com/assets/colab-badge.svg\" alt=\"Open In Colab\"/></a>"
      ]
    },
    {
      "cell_type": "markdown",
      "metadata": {
        "id": "G2YQDAVGFVoJ"
      },
      "source": [
        "# 【解説】12-2_文字列の活用(2)\n",
        "## 後半の課題３＆ ４「文字列の検索」の解説"
      ]
    },
    {
      "cell_type": "markdown",
      "metadata": {
        "id": "uz3CbxWVFVoc"
      },
      "source": [
        "---\n",
        "## 【課題３】以下の文において単語“cool” のインデックスを全て列挙せよ。\n",
        "```\n",
        "'Programming is cool and cool. The word \"cool\" means \"kakkoii\" in Japanese.'\n",
        "```"
      ]
    },
    {
      "cell_type": "code",
      "execution_count": null,
      "metadata": {
        "scrolled": true,
        "id": "UFNnkRT-FVoh",
        "outputId": "d9139af1-e634-4af0-da6a-d031aae4b9ac",
        "colab": {
          "base_uri": "https://localhost:8080/"
        }
      },
      "outputs": [
        {
          "output_type": "stream",
          "name": "stdout",
          "text": [
            "15\n",
            "24\n",
            "40\n"
          ]
        }
      ],
      "source": [
        "s = 'Programming is cool and cool. The word \"cool\" means \"kakkoii\" in Japanese.'\n",
        "\n",
        "start = 0 # 検索開始位置\n",
        "\n",
        "while True:\n",
        "    idx = s.find(\"cool\", start)\n",
        "    if idx == -1:\n",
        "        break\n",
        "    else:\n",
        "        print(idx)\n",
        "        start = idx + 1 # \"cool\" を見つけた位置の隣から，次の検索を開始"
      ]
    },
    {
      "cell_type": "markdown",
      "source": [
        "(解説) `find()`メソッドのうち，検索開始位置を指定できる `find(検索したい文字列, 検索開始位置)` を用いる。\n",
        "\n",
        "また，文字列 \"cool\" が何個，含まれるか，分からないため，無限ループとする。もし検索文字列が見つからない場合，無効なインデックスである `-1` が返されるから，これを利用してループを脱出する。"
      ],
      "metadata": {
        "id": "8lowEbL2P_Cg"
      }
    },
    {
      "cell_type": "markdown",
      "source": [
        "(別解) `while` ループ中で `start = idx + 1` としているが，`start = idx + len(\"cool\")` とする手もある。"
      ],
      "metadata": {
        "id": "xSj6g9jWqueu"
      }
    },
    {
      "cell_type": "code",
      "source": [
        "s = 'Programming is cool and cool. The word \"cool\" means \"kakkoii\" in Japanese.'\n",
        "\n",
        "target = \"cool\" # 検索対象文字列\n",
        "start = 0 # 検索開始位置\n",
        "\n",
        "while True:\n",
        "    idx = s.find(target, start)\n",
        "    if idx == -1: # \"cool\" が見つからない場合\n",
        "        break\n",
        "    else:\n",
        "        print(idx)\n",
        "        start = idx + len(target) # \"cool\" の長さ(=4)だけ検索位置をずらす"
      ],
      "metadata": {
        "colab": {
          "base_uri": "https://localhost:8080/"
        },
        "id": "lzkC2btBq9W0",
        "outputId": "6c6dadd1-b55b-4e4e-be0a-1f6a58595e06"
      },
      "execution_count": null,
      "outputs": [
        {
          "output_type": "stream",
          "name": "stdout",
          "text": [
            "15\n",
            "24\n",
            "40\n"
          ]
        }
      ]
    },
    {
      "cell_type": "markdown",
      "metadata": {
        "id": "yLB9G52wFVor"
      },
      "source": [
        "---\n",
        "## 【課題４】前回の授業で用いた「不思議の国のアリス（冒頭）」の文字列，すなわち `alice_doc` を持ってくる。\n",
        "`alice_doc` には複数の文がリストとして格納されている点をふまえ，\"Alice\" が現れる位置を以下のイメージのように出力せよ。\n",
        "\n",
        "```\n",
        "1つ目の文：インデックスは0\n",
        "1つ目の文：インデックスは260\n",
        "３つ目の文：インデックスは〇〇\n",
        "・・・・・・・・・：インデックスは〇〇\n",
        "```"
      ]
    },
    {
      "cell_type": "code",
      "source": [
        "alice_doc = [\"Alice was beginning to get very tired of sitting by her sister on the bank, and of having nothing to do: once or twice she had peeped into the book her sister was reading, but it had no pictures or conversations in it, 'and what is the use of a book,' thought Alice 'without pictures or conversation?'\",\n",
        "\t\"So she was considering in her own mind (as well as she could, for the hot day made her feel very sleepy and stupid), whether the pleasure of making a daisy-chain would be worth the trouble of getting up and picking the daisies, when suddenly a White Rabbit with pink eyes ran close by her.\",\n",
        "\t\"There was nothing so VERY remarkable in that; nor did Alice think it so VERY much out of the way to hear the Rabbit say to itself, 'Oh dear! Oh dear! I shall be late!' (when she thought it over afterwards, it occurred to her that she ought to have wondered at this, but at the time it all seemed quite natural); but when the Rabbit actually TOOK A WATCH OUT OF ITS WAISTCOAT-POCKET, and looked at it, and then hurried on, Alice started to her feet, for it flashed across her mind that she had never before seen a rabbit with either a waistcoat-pocket, or a watch to take out of it, and burning with curiosity, she ran across the field after it, and fortunately was just in time to see it pop down a large rabbit-hole under the hedge.\",\n",
        "\t\"In another moment down went Alice after it, never once considering how in the world she was to get out again.\",\n",
        "\t\"The rabbit-hole went straight on like a tunnel for some way, and then dipped suddenly down, so suddenly that Alice had not a moment to think about stopping herself before she found herself falling down a very deep well.\"]\n",
        "\n",
        "sentence_count = 1 # 何番目の文であるかを数えるカウンタ\n",
        "\n",
        "for doc in alice_doc:\n",
        "\tstart = 0\n",
        "\twhile True:\n",
        "\t\tidx = doc.find(\"Alice\", start)\n",
        "\t\tif idx == -1:\n",
        "\t\t\tbreak\n",
        "\t\telse:\n",
        "\t\t\tprint(\"{}つ目の文：インデックスは {}\".format(sentence_count, idx))\n",
        "\t\t\tstart = idx + 1\n",
        "\n",
        "\tsentence_count += 1"
      ],
      "metadata": {
        "id": "M6P9TGxUYW6D",
        "colab": {
          "base_uri": "https://localhost:8080/"
        },
        "outputId": "9a993e63-9c67-429c-9ae0-605b4e58f48d"
      },
      "execution_count": null,
      "outputs": [
        {
          "output_type": "stream",
          "name": "stdout",
          "text": [
            "1つ目の文：インデックスは 0\n",
            "1つ目の文：インデックスは 260\n",
            "3つ目の文：インデックスは 54\n",
            "3つ目の文：インデックスは 422\n",
            "4つ目の文：インデックスは 28\n",
            "5つ目の文：インデックスは 109\n"
          ]
        }
      ]
    },
    {
      "cell_type": "markdown",
      "source": [
        "(解説) 課題３で取り上げた構造を利用する。\n",
        "- 外側の `for` ループで文を１つずつ，処理する。\n",
        "- 内側の `while` ループで，個々の文に含まれる \"Alice\" の位置（＝インデックス）を検出する。\n",
        "\n",
        "また，\"Alice\" の位置を出力する際，`format()` メソッドを使うと，記述がシンプルになる。"
      ],
      "metadata": {
        "id": "3ekXuajXpybA"
      }
    },
    {
      "cell_type": "markdown",
      "source": [
        "(補足) 授業で説明していない（＝意図的に飛ばしている）が，`enumerate` 関数を用いると「何番目の文であるかを数えるカウンタ」が自動的に生成される。\n",
        "\n",
        "まず，`enumerate` 関数の挙動を以下に示す。"
      ],
      "metadata": {
        "id": "vAqcDEpPrULU"
      }
    },
    {
      "cell_type": "code",
      "source": [
        "any_list = [\"Aomori\", \"Fukushima\", \"Osaka\", \"Yamaguchi\"]\n",
        "\n",
        "for idx, value in enumerate(any_list):\n",
        "    print(\"{}番目の値は {}\".format(idx, value))"
      ],
      "metadata": {
        "colab": {
          "base_uri": "https://localhost:8080/"
        },
        "id": "tmL94v6hpyBp",
        "outputId": "e26f4df7-ce83-438c-e595-aa960a725e16"
      },
      "execution_count": null,
      "outputs": [
        {
          "output_type": "stream",
          "name": "stdout",
          "text": [
            "0番目の値は Aomori\n",
            "1番目の値は Fukushima\n",
            "2番目の値は Osaka\n",
            "3番目の値は Yamaguchi\n"
          ]
        }
      ]
    },
    {
      "cell_type": "markdown",
      "source": [
        "つまり，`enumerate()` 関数はリスト中の要素とそのインデックスを組みにして返す機能を有する。\n",
        "\n",
        "これを利用して `alice_doc` 中の \"Alice\" の出現位置を求めるコードを以下に示す。"
      ],
      "metadata": {
        "id": "F5qLDpVDr-gb"
      }
    },
    {
      "cell_type": "code",
      "source": [
        "alice_doc = [\"Alice was beginning to get very tired of sitting by her sister on the bank, and of having nothing to do: once or twice she had peeped into the book her sister was reading, but it had no pictures or conversations in it, 'and what is the use of a book,' thought Alice 'without pictures or conversation?'\",\n",
        "\t\"So she was considering in her own mind (as well as she could, for the hot day made her feel very sleepy and stupid), whether the pleasure of making a daisy-chain would be worth the trouble of getting up and picking the daisies, when suddenly a White Rabbit with pink eyes ran close by her.\",\n",
        "\t\"There was nothing so VERY remarkable in that; nor did Alice think it so VERY much out of the way to hear the Rabbit say to itself, 'Oh dear! Oh dear! I shall be late!' (when she thought it over afterwards, it occurred to her that she ought to have wondered at this, but at the time it all seemed quite natural); but when the Rabbit actually TOOK A WATCH OUT OF ITS WAISTCOAT-POCKET, and looked at it, and then hurried on, Alice started to her feet, for it flashed across her mind that she had never before seen a rabbit with either a waistcoat-pocket, or a watch to take out of it, and burning with curiosity, she ran across the field after it, and fortunately was just in time to see it pop down a large rabbit-hole under the hedge.\",\n",
        "\t\"In another moment down went Alice after it, never once considering how in the world she was to get out again.\",\n",
        "\t\"The rabbit-hole went straight on like a tunnel for some way, and then dipped suddenly down, so suddenly that Alice had not a moment to think about stopping herself before she found herself falling down a very deep well.\"]\n",
        "\n",
        "for sentence_count, doc in enumerate(alice_doc):\n",
        "\tstart = 0\n",
        "\twhile True:\n",
        "\t\tidx = doc.find(\"Alice\", start)\n",
        "\t\tif idx == -1:\n",
        "\t\t\tbreak\n",
        "\t\telse:\n",
        "            # sentence_count はゼロから始まるため，表示の際は sentence_count + 1 とする\n",
        "\t\t\tprint(\"{}つ目の文：インデックスは {}\".format(sentence_count + 1, idx))\n",
        "\t\t\tstart = idx + 1"
      ],
      "metadata": {
        "colab": {
          "base_uri": "https://localhost:8080/"
        },
        "id": "1AVAGkyJr7zu",
        "outputId": "7ea160fd-dee8-4e14-e5d5-8d23d8c17360"
      },
      "execution_count": null,
      "outputs": [
        {
          "output_type": "stream",
          "name": "stdout",
          "text": [
            "1つ目の文：インデックスは 0\n",
            "1つ目の文：インデックスは 260\n",
            "3つ目の文：インデックスは 54\n",
            "3つ目の文：インデックスは 422\n",
            "4つ目の文：インデックスは 28\n",
            "5つ目の文：インデックスは 109\n"
          ]
        }
      ]
    },
    {
      "cell_type": "code",
      "source": [],
      "metadata": {
        "id": "lqfLHZNFscGF"
      },
      "execution_count": null,
      "outputs": []
    }
  ],
  "metadata": {
    "kernelspec": {
      "display_name": "Python 3",
      "language": "python",
      "name": "python3"
    },
    "language_info": {
      "codemirror_mode": {
        "name": "ipython",
        "version": 3
      },
      "file_extension": ".py",
      "mimetype": "text/x-python",
      "name": "python",
      "nbconvert_exporter": "python",
      "pygments_lexer": "ipython3",
      "version": "3.8.5"
    },
    "colab": {
      "provenance": [],
      "include_colab_link": true
    }
  },
  "nbformat": 4,
  "nbformat_minor": 0
}