{
  "cells": [
    {
      "cell_type": "markdown",
      "metadata": {
        "id": "view-in-github",
        "colab_type": "text"
      },
      "source": [
        "<a href=\"https://colab.research.google.com/github/ymuto0302/programming1_2023/blob/main/11_%E4%BE%8B%E5%A4%96%E3%81%AE%E5%87%A6%E7%90%86.ipynb\" target=\"_parent\"><img src=\"https://colab.research.google.com/assets/colab-badge.svg\" alt=\"Open In Colab\"/></a>"
      ]
    },
    {
      "cell_type": "markdown",
      "metadata": {
        "id": "G2YQDAVGFVoJ"
      },
      "source": [
        "# 【解説】11_例外の処理"
      ]
    },
    {
      "cell_type": "markdown",
      "metadata": {
        "id": "uz3CbxWVFVoc"
      },
      "source": [
        "---\n",
        "## 【課題1】例外の処理(その1)\n",
        "次のリストを定義する。\n",
        "```\n",
        "scores = [85, 70, 68, 95, 90]\n",
        "```\n",
        "- A) print(scores[5])とした場合に発生する例外を確認せよ。\n",
        "- B) 上記で発生した例外を捕捉し，「不正なインデックスです」と表示する\n",
        "except 文を書け。\n"
      ]
    },
    {
      "cell_type": "code",
      "source": [
        "# リストの定義\n",
        "scores = [85, 70, 68, 95, 90]"
      ],
      "metadata": {
        "id": "Z3JI0l9KMjj0"
      },
      "execution_count": null,
      "outputs": []
    },
    {
      "cell_type": "code",
      "source": [
        "# A) 例外の確認\n",
        "print(scores[5])"
      ],
      "metadata": {
        "colab": {
          "base_uri": "https://localhost:8080/",
          "height": 188
        },
        "id": "xsM6pdl9MpCK",
        "outputId": "0fd60330-f1d3-44f5-f8cf-0f5f86f45563"
      },
      "execution_count": null,
      "outputs": [
        {
          "output_type": "error",
          "ename": "IndexError",
          "evalue": "ignored",
          "traceback": [
            "\u001b[0;31m---------------------------------------------------------------------------\u001b[0m",
            "\u001b[0;31mIndexError\u001b[0m                                Traceback (most recent call last)",
            "\u001b[0;32m<ipython-input-2-99b3b0878431>\u001b[0m in \u001b[0;36m<module>\u001b[0;34m\u001b[0m\n\u001b[1;32m      1\u001b[0m \u001b[0;31m# A) 例外の確認\u001b[0m\u001b[0;34m\u001b[0m\u001b[0;34m\u001b[0m\u001b[0;34m\u001b[0m\u001b[0m\n\u001b[0;32m----> 2\u001b[0;31m \u001b[0mprint\u001b[0m\u001b[0;34m(\u001b[0m\u001b[0mscores\u001b[0m\u001b[0;34m[\u001b[0m\u001b[0;36m5\u001b[0m\u001b[0;34m]\u001b[0m\u001b[0;34m)\u001b[0m\u001b[0;34m\u001b[0m\u001b[0;34m\u001b[0m\u001b[0m\n\u001b[0m",
            "\u001b[0;31mIndexError\u001b[0m: list index out of range"
          ]
        }
      ]
    },
    {
      "cell_type": "markdown",
      "source": [
        "(解説)リストのサイズを超えたインデックスを指定したため，`IndexError: list index out of range` が発生する。  \n",
        "見た目そのままだから解説は不要だろう。"
      ],
      "metadata": {
        "id": "zESBlSQAMwfg"
      }
    },
    {
      "cell_type": "code",
      "source": [
        "# B) 例外の捕捉\n",
        "try:\n",
        "    print(scores[5])\n",
        "except IndexError:\n",
        "    print(\"不正なインデックスです\")"
      ],
      "metadata": {
        "id": "5_tSEaTyMwvN"
      },
      "execution_count": null,
      "outputs": []
    },
    {
      "cell_type": "markdown",
      "source": [
        "(解説) `IndexError` が発生することが分かっているから，`except IndexError:` により例外を捕捉すればよい。"
      ],
      "metadata": {
        "id": "8lowEbL2P_Cg"
      }
    },
    {
      "cell_type": "markdown",
      "metadata": {
        "id": "yLB9G52wFVor"
      },
      "source": [
        "---\n",
        "## 【課題2】例外の処理 (その2)\n",
        "２つの数値\n",
        "A, B を入力させ，除算 A / B を実行する。\n",
        "ここで B がゼロでない場合は「除算結果の値（ 6 / 2 ならば 3) 」を，\n",
        "B がゼロの場合は「割る数にゼロは不適です」とメッセージを表示するコードを書け。\n",
        "\n",
        "(注意) try～except を用いて「Bがゼロの場合の処理」を記述すること。"
      ]
    },
    {
      "cell_type": "code",
      "source": [
        "A = float(input(\"Aの値を入力：\"))\n",
        "B = float(input(\"Bの値を入力：\"))\n",
        "\n",
        "division = A / B\n",
        "print(\"除算結果: {}\".format(division))"
      ],
      "metadata": {
        "colab": {
          "base_uri": "https://localhost:8080/",
          "height": 257
        },
        "id": "BE5_j6cbK-Lr",
        "outputId": "45fb68ab-06f3-427c-9966-e15c0ab7af5b"
      },
      "execution_count": null,
      "outputs": [
        {
          "name": "stdout",
          "output_type": "stream",
          "text": [
            "Aの値を入力：7\n",
            "Bの値を入力：0\n"
          ]
        },
        {
          "output_type": "error",
          "ename": "ZeroDivisionError",
          "evalue": "ignored",
          "traceback": [
            "\u001b[0;31m---------------------------------------------------------------------------\u001b[0m",
            "\u001b[0;31mZeroDivisionError\u001b[0m                         Traceback (most recent call last)",
            "\u001b[0;32m<ipython-input-1-996636fbc157>\u001b[0m in \u001b[0;36m<cell line: 4>\u001b[0;34m()\u001b[0m\n\u001b[1;32m      2\u001b[0m \u001b[0mB\u001b[0m \u001b[0;34m=\u001b[0m \u001b[0mfloat\u001b[0m\u001b[0;34m(\u001b[0m\u001b[0minput\u001b[0m\u001b[0;34m(\u001b[0m\u001b[0;34m\"Bの値を入力：\"\u001b[0m\u001b[0;34m)\u001b[0m\u001b[0;34m)\u001b[0m\u001b[0;34m\u001b[0m\u001b[0;34m\u001b[0m\u001b[0m\n\u001b[1;32m      3\u001b[0m \u001b[0;34m\u001b[0m\u001b[0m\n\u001b[0;32m----> 4\u001b[0;31m \u001b[0mdivision\u001b[0m \u001b[0;34m=\u001b[0m \u001b[0mA\u001b[0m \u001b[0;34m/\u001b[0m \u001b[0mB\u001b[0m\u001b[0;34m\u001b[0m\u001b[0;34m\u001b[0m\u001b[0m\n\u001b[0m\u001b[1;32m      5\u001b[0m \u001b[0mprint\u001b[0m\u001b[0;34m(\u001b[0m\u001b[0;34m\"除算結果: {}\"\u001b[0m\u001b[0;34m.\u001b[0m\u001b[0mformat\u001b[0m\u001b[0;34m(\u001b[0m\u001b[0mdivision\u001b[0m\u001b[0;34m)\u001b[0m\u001b[0;34m)\u001b[0m\u001b[0;34m\u001b[0m\u001b[0;34m\u001b[0m\u001b[0m\n",
            "\u001b[0;31mZeroDivisionError\u001b[0m: float division by zero"
          ]
        }
      ]
    },
    {
      "cell_type": "markdown",
      "source": [
        "(解説) 何らケアしなければ，上記のように B にゼロを与えた結果，`ZeroDivisionError` が発生する。\n",
        "\n",
        "以下は，`ZeroDivisionError` 例外を捕捉するコードである。"
      ],
      "metadata": {
        "id": "1QLaPMM5LKFj"
      }
    },
    {
      "cell_type": "code",
      "source": [
        "A = float(input(\"Aの値を入力：\"))\n",
        "B = float(input(\"Bの値を入力：\"))\n",
        "\n",
        "try:\n",
        "    division = A / B\n",
        "    print(\"除算結果: {}\".format(division))\n",
        "except ZeroDivisionError:\n",
        "    print(\"割る数にゼロは不適です\")"
      ],
      "metadata": {
        "id": "M6P9TGxUYW6D",
        "colab": {
          "base_uri": "https://localhost:8080/"
        },
        "outputId": "e09590d6-7398-4bb8-8b9b-78f720b79675"
      },
      "execution_count": null,
      "outputs": [
        {
          "output_type": "stream",
          "name": "stdout",
          "text": [
            "Aの値を入力：6\n",
            "Bの値を入力：2\n",
            "除算結果: 3.0\n"
          ]
        }
      ]
    },
    {
      "cell_type": "markdown",
      "source": [
        "一応，例外が発生した場合の実行結果も示しておこう。"
      ],
      "metadata": {
        "id": "WHCp950BNCl8"
      }
    },
    {
      "cell_type": "code",
      "source": [
        "# 例外が発生する例を示すため，上と全く同じコードを書く\n",
        "A = float(input(\"Aの値を入力：\"))\n",
        "B = float(input(\"Bの値を入力：\"))\n",
        "\n",
        "try:\n",
        "    division = A / B\n",
        "    print(\"除算結果: {}\".format(division))\n",
        "except ZeroDivisionError:\n",
        "    print(\"割る数にゼロは不適です\")"
      ],
      "metadata": {
        "colab": {
          "base_uri": "https://localhost:8080/"
        },
        "id": "v8qSYpAUOJP0",
        "outputId": "e3e2b3da-3802-4856-ca69-3476550c8a0e"
      },
      "execution_count": null,
      "outputs": [
        {
          "output_type": "stream",
          "name": "stdout",
          "text": [
            "Aの値を入力：6\n",
            "Bの値を入力：0\n",
            "割る数にゼロは不適です\n"
          ]
        }
      ]
    }
  ],
  "metadata": {
    "kernelspec": {
      "display_name": "Python 3",
      "language": "python",
      "name": "python3"
    },
    "language_info": {
      "codemirror_mode": {
        "name": "ipython",
        "version": 3
      },
      "file_extension": ".py",
      "mimetype": "text/x-python",
      "name": "python",
      "nbconvert_exporter": "python",
      "pygments_lexer": "ipython3",
      "version": "3.8.5"
    },
    "colab": {
      "provenance": [],
      "include_colab_link": true
    }
  },
  "nbformat": 4,
  "nbformat_minor": 0
}