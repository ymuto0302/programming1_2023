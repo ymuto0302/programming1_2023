{
  "cells": [
    {
      "cell_type": "markdown",
      "metadata": {
        "id": "view-in-github",
        "colab_type": "text"
      },
      "source": [
        "<a href=\"https://colab.research.google.com/github/ymuto0302/programming1_2023/blob/main/03_%E5%91%BD%E4%BB%A4%E3%81%AE%E5%88%97%E6%8C%99_%E3%82%B3%E3%83%A1%E3%83%B3%E3%83%88_%E5%A4%89%E6%95%B0.ipynb\" target=\"_parent\"><img src=\"https://colab.research.google.com/assets/colab-badge.svg\" alt=\"Open In Colab\"/></a>"
      ]
    },
    {
      "cell_type": "markdown",
      "metadata": {
        "id": "8na8Hy2HC9va"
      },
      "source": [
        "# 【解説】03_命令の列挙_コメント_変数"
      ]
    },
    {
      "cell_type": "markdown",
      "metadata": {
        "id": "6Yj0P-EsC9vd"
      },
      "source": [
        "---\n",
        "###【課題1】変数 x に 2 を代入し，これを３倍した数を出力するコードを書け。また，その際，プログラムの冒頭に「変数を３倍する」というコメントを付与すること。"
      ]
    },
    {
      "cell_type": "code",
      "execution_count": null,
      "metadata": {
        "id": "QM-fHGt2C9ve",
        "outputId": "ef6ea4de-c8d1-4178-ed59-960d1f1b9002",
        "colab": {
          "base_uri": "https://localhost:8080/"
        }
      },
      "outputs": [
        {
          "output_type": "stream",
          "name": "stdout",
          "text": [
            "6\n"
          ]
        }
      ],
      "source": [
        "# 変数を３倍する\n",
        "x = 2\n",
        "print(x * 3)"
      ]
    },
    {
      "cell_type": "markdown",
      "metadata": {
        "id": "F1_I-E_gC9vg"
      },
      "source": [
        "---\n",
        "### 【課題2】太郎，一郎，誠の身長から「３人の身長の平均」を求め，その結果を出力するコードを書け。ただし，それぞれの身長は次のように変数に格納するものとする。\n",
        "\n",
        "```\n",
        "taro = 170.0\n",
        "ichiro = 165.5\n",
        "makoto = 181.5\n",
        "```\n",
        "\n",
        "なお，プログラムの冒頭に「平均身長を求める」というコメントを付与すること。"
      ]
    },
    {
      "cell_type": "code",
      "execution_count": null,
      "metadata": {
        "id": "H2LjXLx3C9vh",
        "outputId": "ece7a67d-4df6-4f81-d79e-08a66a6e8f3a",
        "colab": {
          "base_uri": "https://localhost:8080/"
        }
      },
      "outputs": [
        {
          "output_type": "stream",
          "name": "stdout",
          "text": [
            "平均身長は172.33333333333334\n"
          ]
        }
      ],
      "source": [
        "# 平均身長を求める\n",
        "taro = 170.0\n",
        "ichiro = 165.5\n",
        "makoto = 181.5\n",
        "\n",
        "heikin = (taro + ichiro + makoto) / 3\n",
        "print(\"平均身長は{}\".format(heikin))"
      ]
    },
    {
      "cell_type": "markdown",
      "metadata": {
        "id": "AQAuhQhoC9vh"
      },
      "source": [
        "---\n",
        "### 【課題3】キーボードから入力した数値を３倍して出力するコードを書け。"
      ]
    },
    {
      "cell_type": "code",
      "execution_count": null,
      "metadata": {
        "colab": {
          "base_uri": "https://localhost:8080/"
        },
        "id": "cM5eajaMC9vh",
        "outputId": "58664fc6-26fa-408a-db62-858b93c928e6"
      },
      "outputs": [
        {
          "output_type": "stream",
          "name": "stdout",
          "text": [
            "数値を入力してください：2.4\n",
            "7.199999999999999\n"
          ]
        }
      ],
      "source": [
        "string = input(\"数値を入力してください：\")\n",
        "value = float(string)\n",
        "print(value * 3)"
      ]
    },
    {
      "cell_type": "markdown",
      "source": [
        "(解説) 上記のコードについて，ちょっとコメントします。上記では，文字列から数値への変換に `float()` 関数を利用している。`int()` では駄目なのか，という疑問に対して，整数 or 小数点付き数値のいずれもカバーできるという点で `float()` 関数が適切であろう。\n",
        "\n",
        "(メモ)「キーボードから入力した数値」という表現から「扱われる数は整数である」と限定する方が危険！\n",
        "\n",
        "なお，「整数の入力のみを許す」という仕様ならば `int()` 関数を用いてもよい。"
      ],
      "metadata": {
        "id": "jsjFkOitJBD3"
      }
    },
    {
      "cell_type": "markdown",
      "source": [
        "---\n",
        "## 【課題4】変数me に100を代入し，変数you に300 を代入する。これらの値を入れ替え，次の命令文の結果が「me は300，you は100」となるよう，コードを書け。\n",
        "\n",
        "```\n",
        "print(”me は{},youは{}”.format(me, you))\n",
        "```"
      ],
      "metadata": {
        "id": "SvOxRjX7KVCo"
      }
    },
    {
      "cell_type": "code",
      "execution_count": null,
      "metadata": {
        "id": "k9nr7dHFC9vi",
        "colab": {
          "base_uri": "https://localhost:8080/"
        },
        "outputId": "b3dafbd5-0911-41e6-eca8-4baf01d8d217"
      },
      "outputs": [
        {
          "output_type": "stream",
          "name": "stdout",
          "text": [
            "me は300,youは100\n"
          ]
        }
      ],
      "source": [
        "me = 100\n",
        "you = 300\n",
        "\n",
        "# 値の入れ替え\n",
        "temp = me\n",
        "me = you\n",
        "you = temp\n",
        "\n",
        "print(\"me は{},youは{}\".format(me, you))"
      ]
    },
    {
      "cell_type": "markdown",
      "source": [
        "(解説) 上記のような値の入れ替えを「スワップ (swap)」と呼ぶ。\n",
        "\n",
        "スワップを実現する方法として，一時的な変数 `temp` を介して値を交換するのが一般的であり，かつ**殆んど全ての言語で使える手法**である。\n",
        "\n",
        "(メモ) ここで変数名 \"temp\" は「一時的な変数」を意味する英語表現 \"temporary variables\" から採用した。\n",
        "\n",
        "一方，Python 特有の代入方法として「複数の値を一度に代入する」という機能がある。  \n",
        "すなわち，次のようなコードが書ける。\n",
        "```\n",
        "a, b, c = 1, 2, 3\n",
        "```\n",
        "\n",
        "この機能を利用すると，以下の書き方も「あり」である。"
      ],
      "metadata": {
        "id": "Pz7u9z5kKrNh"
      }
    },
    {
      "cell_type": "code",
      "source": [
        "me = 100\n",
        "you = 300\n",
        "\n",
        "# 値の入れ替え\n",
        "# (メモ) 次の行は \"me, you = 300, 100\" と解釈される\n",
        "me, you = you, me\n",
        "\n",
        "print(\"me は{},youは{}\".format(me, you))"
      ],
      "metadata": {
        "colab": {
          "base_uri": "https://localhost:8080/"
        },
        "id": "RByFKiawLJ8m",
        "outputId": "ffdcd3a1-21fe-4bed-9473-9799f556e43e"
      },
      "execution_count": null,
      "outputs": [
        {
          "output_type": "stream",
          "name": "stdout",
          "text": [
            "me は300,youは100\n"
          ]
        }
      ]
    },
    {
      "cell_type": "code",
      "source": [],
      "metadata": {
        "id": "lWxQzMrNLeU3"
      },
      "execution_count": null,
      "outputs": []
    }
  ],
  "metadata": {
    "kernelspec": {
      "display_name": "Python 3",
      "language": "python",
      "name": "python3"
    },
    "language_info": {
      "codemirror_mode": {
        "name": "ipython",
        "version": 3
      },
      "file_extension": ".py",
      "mimetype": "text/x-python",
      "name": "python",
      "nbconvert_exporter": "python",
      "pygments_lexer": "ipython3",
      "version": "3.8.5"
    },
    "colab": {
      "provenance": [],
      "include_colab_link": true
    }
  },
  "nbformat": 4,
  "nbformat_minor": 0
}