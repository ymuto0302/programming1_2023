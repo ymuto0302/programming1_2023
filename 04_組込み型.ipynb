{
  "cells": [
    {
      "cell_type": "markdown",
      "metadata": {
        "id": "view-in-github",
        "colab_type": "text"
      },
      "source": [
        "<a href=\"https://colab.research.google.com/github/ymuto0302/programming1_2023/blob/main/04_%E7%B5%84%E8%BE%BC%E3%81%BF%E5%9E%8B.ipynb\" target=\"_parent\"><img src=\"https://colab.research.google.com/assets/colab-badge.svg\" alt=\"Open In Colab\"/></a>"
      ]
    },
    {
      "cell_type": "markdown",
      "metadata": {
        "id": "8na8Hy2HC9va"
      },
      "source": [
        "# 【解説】04_組込み型"
      ]
    },
    {
      "cell_type": "markdown",
      "metadata": {
        "id": "6Yj0P-EsC9vd"
      },
      "source": [
        "---\n",
        "##【課題1】次のように「数字から構成される文字列」が２つ，与えられる。適切な組込み関数を用いて，「xを数値化した値」と「yを数値化した値」の和を求めよ。\n",
        "```\n",
        "x = \"123\"\n",
        "y = \"456\"\n",
        "```"
      ]
    },
    {
      "cell_type": "code",
      "execution_count": null,
      "metadata": {
        "id": "QM-fHGt2C9ve",
        "outputId": "2f29552c-16e4-4f78-c6d5-64e67d2923df",
        "colab": {
          "base_uri": "https://localhost:8080/"
        }
      },
      "outputs": [
        {
          "output_type": "stream",
          "name": "stdout",
          "text": [
            "２つの値の和：579\n"
          ]
        }
      ],
      "source": [
        "x = \"123\"\n",
        "y = \"456\"\n",
        "\n",
        "wa = int(x) + int(y)\n",
        "\n",
        "print(\"２つの値の和：{}\".format(wa))"
      ]
    },
    {
      "cell_type": "markdown",
      "source": [
        "(解説) 文字列から数値へ変換するには `int()`関数または `float()`関数を用いる。上記では「整数を意味する文字列」が与えられるため，`int()`関数を用いた。"
      ],
      "metadata": {
        "id": "BVne8JI6mVsb"
      }
    },
    {
      "cell_type": "markdown",
      "metadata": {
        "id": "F1_I-E_gC9vg"
      },
      "source": [
        "---\n",
        "## 【課題2】以下の文字列を表示するprint 文を書け。\n",
        "\n",
        "```\n",
        "Movie \"Shin Evangelion Theatrical Version\" is amazing.\n",
        "```"
      ]
    },
    {
      "cell_type": "code",
      "execution_count": null,
      "metadata": {
        "id": "H2LjXLx3C9vh",
        "outputId": "c34cb7ba-6f96-48e0-c1d6-ca4d9e426e0b",
        "colab": {
          "base_uri": "https://localhost:8080/"
        }
      },
      "outputs": [
        {
          "output_type": "stream",
          "name": "stdout",
          "text": [
            "Movie \"Shin Evangelion Theatrical Version\" is amazing.\n"
          ]
        }
      ],
      "source": [
        "message = 'Movie \"Shin Evangelion Theatrical Version\" is amazing.'\n",
        "print(message)"
      ]
    },
    {
      "cell_type": "markdown",
      "source": [
        "(解説) 上記の文字列は「その内部にダブルクォーテーションを含む」ため，文字列を定義する段階でシングルクォーテーションで囲む必要がある。"
      ],
      "metadata": {
        "id": "TjuCnMtxMWLq"
      }
    },
    {
      "cell_type": "markdown",
      "metadata": {
        "id": "AQAuhQhoC9vh"
      },
      "source": [
        "---\n",
        "## 【課題3】以下のリストから１番目の要素（山口県）と３番目の要素（下関市）を取り出し，これらを連結して表示する，すなわち「山口県下関市」と表示するコードを書け。\n",
        "```\n",
        "places = [\"福岡県\", \"山口県\", \"太宰府市\", \"下関市\"]\n",
        "```\n"
      ]
    },
    {
      "cell_type": "code",
      "execution_count": null,
      "metadata": {
        "colab": {
          "base_uri": "https://localhost:8080/"
        },
        "id": "cM5eajaMC9vh",
        "outputId": "4c4a1bc5-485d-4d80-8c98-7cb678a30efc"
      },
      "outputs": [
        {
          "output_type": "stream",
          "name": "stdout",
          "text": [
            "山口県下関市\n"
          ]
        }
      ],
      "source": [
        "places = [\"福岡県\", \"山口県\", \"太宰府市\", \"下関市\"]\n",
        "\n",
        "result = places[1] + places[3] # 文字列の連結\n",
        "print(result)"
      ]
    },
    {
      "cell_type": "markdown",
      "source": [
        "(解説) リストから特定の要素を取り出すにはインデックスを用いる。ここで「最初の要素」がゼロ番目，「２番目の要素」が１番目となる点に注意すること。\n",
        "\n",
        "また，文字列の連結は `+` 演算子により実現できることを思い出そう。"
      ],
      "metadata": {
        "id": "XTzzPP0om0B5"
      }
    },
    {
      "cell_type": "markdown",
      "source": [
        "(参考) 上記のコードについて，ちょっとコメントします。  \n",
        "課題としては「文字列を連結した上で，その結果を表示する」という意図でしたが，「とにかく『山口県』と『下関式』が続けて表示されればよい」とも読めることから，以下のコードもありです。\n",
        "\n",
        "ただし，`print()`関数の `end` 引数は表示をコントロールするに過ぎず，「文字列の連結」という本質からズレているため，（正直）お薦めしないコードである。"
      ],
      "metadata": {
        "id": "jsjFkOitJBD3"
      }
    },
    {
      "cell_type": "code",
      "source": [
        "places = [\"福岡県\", \"山口県\", \"太宰府市\", \"下関市\"]\n",
        "\n",
        "print(places[1], end=\"\") # 表示の際，改行しない\n",
        "print(places[3])"
      ],
      "metadata": {
        "colab": {
          "base_uri": "https://localhost:8080/"
        },
        "id": "2pye4HkHNQ_-",
        "outputId": "71b4cebf-0890-4396-d49e-17c55960033c"
      },
      "execution_count": null,
      "outputs": [
        {
          "output_type": "stream",
          "name": "stdout",
          "text": [
            "山口県下関市\n"
          ]
        }
      ]
    }
  ],
  "metadata": {
    "kernelspec": {
      "display_name": "Python 3",
      "language": "python",
      "name": "python3"
    },
    "language_info": {
      "codemirror_mode": {
        "name": "ipython",
        "version": 3
      },
      "file_extension": ".py",
      "mimetype": "text/x-python",
      "name": "python",
      "nbconvert_exporter": "python",
      "pygments_lexer": "ipython3",
      "version": "3.8.5"
    },
    "colab": {
      "provenance": [],
      "include_colab_link": true
    }
  },
  "nbformat": 4,
  "nbformat_minor": 0
}