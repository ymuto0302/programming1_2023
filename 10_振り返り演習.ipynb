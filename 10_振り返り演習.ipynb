{
  "cells": [
    {
      "cell_type": "markdown",
      "metadata": {
        "id": "view-in-github",
        "colab_type": "text"
      },
      "source": [
        "<a href=\"https://colab.research.google.com/github/ymuto0302/programming1_2023/blob/main/10_%E6%8C%AF%E3%82%8A%E8%BF%94%E3%82%8A%E6%BC%94%E7%BF%92.ipynb\" target=\"_parent\"><img src=\"https://colab.research.google.com/assets/colab-badge.svg\" alt=\"Open In Colab\"/></a>"
      ]
    },
    {
      "cell_type": "markdown",
      "metadata": {
        "id": "G2YQDAVGFVoJ"
      },
      "source": [
        "# 【解説】10_振り返り演習\n",
        "複数回の授業にて取り組んだ課題について，武藤なりのプログラムを示す。"
      ]
    },
    {
      "cell_type": "markdown",
      "metadata": {
        "id": "uz3CbxWVFVoc"
      },
      "source": [
        "---\n",
        "## 【課題1】(成績処理)\n",
        "５科目のテストの点数がリストに格納されている。これから「５科目の合計点」および「平均点」を求め，出力するコードを書け。\n",
        "```\n",
        "scores = [85, 70, 68, 95, 90]\n",
        "```\n"
      ]
    },
    {
      "cell_type": "code",
      "execution_count": null,
      "metadata": {
        "scrolled": true,
        "id": "UFNnkRT-FVoh",
        "outputId": "f7b2c4df-dc6a-4250-cf4e-d0bb8193a585"
      },
      "outputs": [
        {
          "name": "stdout",
          "output_type": "stream",
          "text": [
            "合計点：408\n",
            "平均点：81.6\n"
          ]
        }
      ],
      "source": [
        "# 課題１: 成績処理\n",
        "scores = [85, 70, 68, 95, 90]\n",
        "\n",
        "wa = 0\n",
        "for score in scores:\n",
        "    wa += score\n",
        "\n",
        "heikin = wa / len(scores)\n",
        "\n",
        "print(\"合計点：{}\".format(wa))\n",
        "print(\"平均点：{}\".format(heikin))"
      ]
    },
    {
      "cell_type": "markdown",
      "source": [
        "(解説) リストから値をひとつずつ取り出すには `for`～`in リスト` の形式を用いる。また，和を求める構造は以下のとおりである。\n",
        "\n",
        "```\n",
        "wa = 0 # 和を格納する変数をゼロで初期化\n",
        "for 繰り返し:\n",
        "  wa += 加算される値\n",
        "```\n",
        "\n",
        "さらに，リスト内の要素数(ここでは科目数)は `len()` 関数を用いて取得可能である。\n",
        "\n",
        "これらを組み合わせることにより，上記のように点数の平均を計算できる。\n",
        "\n",
        "また，授業で説明していないが，Python 言語には `sum()` 関数があり，リスト内の要素の和を求めてくれる。`sum()` 関数を利用する場合の以下のとおり："
      ],
      "metadata": {
        "id": "8lowEbL2P_Cg"
      }
    },
    {
      "cell_type": "code",
      "source": [
        "# 課題１: 成績処理\n",
        "scores = [85, 70, 68, 95, 90]\n",
        "\n",
        "wa = sum(scores)\n",
        "heikin = wa / len(scores)\n",
        "\n",
        "print(\"合計点：{}\".format(wa))\n",
        "print(\"平均点：{}\".format(heikin))"
      ],
      "metadata": {
        "colab": {
          "base_uri": "https://localhost:8080/"
        },
        "id": "hYrzcTds1VGK",
        "outputId": "09d58a46-67b0-4f0b-dbb8-e2dab55dcb7b"
      },
      "execution_count": null,
      "outputs": [
        {
          "output_type": "stream",
          "name": "stdout",
          "text": [
            "合計点：408\n",
            "平均点：81.6\n"
          ]
        }
      ]
    },
    {
      "cell_type": "markdown",
      "metadata": {
        "id": "yLB9G52wFVor"
      },
      "source": [
        "---\n",
        "## 【課題2】(フィボナッチ数列)\n",
        "フィボナッチ数列の規則性は自然界に多く見られ，次の数列で与えられる。\n",
        "```\n",
        "0, 1, 1, 2, 3, 5, 8, 13, 21, 34, 55, 89, 144, 233, 377, ・・・\n",
        "```\n",
        "その定義は以下のとおり，漸化式で表現される。\n",
        "\n",
        "$F_0 = 0$  \n",
        "$F_1 = 1$  \n",
        "$F_{n+2} = F_n + F_{n+1} \\quad (n \\ge 0)$\n",
        "\n",
        "プログラムを用いて，第21項が 10946 であることを確認せよ。（注意：最初の項を第０項として数える）\n",
        "また，第25項はいくつになるだろうか？"
      ]
    },
    {
      "cell_type": "code",
      "execution_count": null,
      "metadata": {
        "scrolled": false,
        "id": "g01xNGyNFVov",
        "outputId": "6de0a22c-b976-4607-978d-800db7152f5d",
        "colab": {
          "base_uri": "https://localhost:8080/"
        }
      },
      "outputs": [
        {
          "output_type": "stream",
          "name": "stdout",
          "text": [
            "2: 1\n",
            "3: 2\n",
            "4: 3\n",
            "5: 5\n",
            "6: 8\n",
            "7: 13\n",
            "8: 21\n",
            "9: 34\n",
            "10: 55\n",
            "11: 89\n",
            "12: 144\n",
            "13: 233\n",
            "14: 377\n",
            "15: 610\n",
            "16: 987\n",
            "17: 1597\n",
            "18: 2584\n",
            "19: 4181\n",
            "20: 6765\n",
            "21: 10946\n",
            "22: 17711\n",
            "23: 28657\n",
            "24: 46368\n",
            "25: 75025\n"
          ]
        }
      ],
      "source": [
        "# 課題２: フィボナッチ数列\n",
        "\n",
        "prev_prev = 0 # 第0項 ・・・変数名は「２つ前」の意図から，\"previous\" を重ねた\n",
        "prev = 1 # 第1項 ・・・変数名は「ひとつ前」 (previous) の意味をもつ\n",
        "\n",
        "bound = 25 # 何項目まで？\n",
        "count = 2 # 今，見ている項は何項目？\n",
        "while count <= bound:\n",
        "    next_value = prev_prev + prev # 漸化式\n",
        "    print(\"{}: {}\".format(count, next_value))\n",
        "    \n",
        "    prev_prev = prev\n",
        "    prev = next_value\n",
        "    \n",
        "    count += 1"
      ]
    },
    {
      "cell_type": "markdown",
      "source": [
        "(解説) この課題では，初期化すべき変数が２つ（上記では `prev_prev` と `prev` の２つ），ループ内で更新すべき変数も２つ（やはり `prev_prev` と `prev` の２つ）がある。\n",
        "\n",
        "注意すべきは，`prev_prev` と `prev` を更新する順番である。\n",
        "先に `prev_prev` を更新しないと，思い通りに動かない。\n",
        "\n",
        "また，Python では `a, b = 3, 5`のように複数の値を同時に代入できる，という特性を利用すると，次の書き方も可能である。\n",
        "```\n",
        "prev_prev, prev = prev, next_value\n",
        "```\n",
        "この発想に基づいて書いたのが，下記の（別解）である。"
      ],
      "metadata": {
        "id": "uP1eC0ezbXkh"
      }
    },
    {
      "cell_type": "code",
      "execution_count": null,
      "metadata": {
        "id": "iteqKe56FVoz",
        "outputId": "b33334f2-aa43-4d12-ec4e-3fc7141f6e0a",
        "colab": {
          "base_uri": "https://localhost:8080/"
        }
      },
      "outputs": [
        {
          "output_type": "stream",
          "name": "stdout",
          "text": [
            "2: 1\n",
            "3: 2\n",
            "4: 3\n",
            "5: 5\n",
            "6: 8\n",
            "7: 13\n",
            "8: 21\n",
            "9: 34\n",
            "10: 55\n",
            "11: 89\n",
            "12: 144\n",
            "13: 233\n",
            "14: 377\n",
            "15: 610\n",
            "16: 987\n",
            "17: 1597\n",
            "18: 2584\n",
            "19: 4181\n",
            "20: 6765\n",
            "21: 10946\n",
            "22: 17711\n",
            "23: 28657\n",
            "24: 46368\n",
            "25: 75025\n"
          ]
        }
      ],
      "source": [
        "# (別解)\n",
        "f0 = 0\n",
        "f1 = 1\n",
        "\n",
        "bound = 25 # 何項目まで？\n",
        "count = 2 # 今，見ている項は何項目？\n",
        "while count <= bound:\n",
        "    f0, f1 = f1, f0+f1 # 漸化式 ＆ 値の更新\n",
        "    print(\"{}: {}\".format(count, f1))\n",
        "    \n",
        "    count += 1"
      ]
    },
    {
      "cell_type": "markdown",
      "metadata": {
        "id": "47FQtAPbFVo3"
      },
      "source": [
        "---\n",
        "## 【課題3】(昇順の並び)\n",
        "整数を３つ， 順番に 入力し，それらが小さい順に並んでいる場合は OK ，そうでなければ NG と出力するコードを書け。\n",
        "- (例) 1 → 2 → 3 : OK\n",
        "- (例) 2 → 2 → 5 : OK (等しい場合も OK とする）\n",
        "- (例) 2 → 5 → 3 : NG"
      ]
    },
    {
      "cell_type": "code",
      "execution_count": null,
      "metadata": {
        "id": "c51T7dsLFVo7",
        "outputId": "7f7112ec-bd9a-4c58-d868-288b29d1c678"
      },
      "outputs": [
        {
          "name": "stdout",
          "output_type": "stream",
          "text": [
            "最初の数字を入力：5\n",
            "２番目の数字を入力：29\n",
            "最後の数字を入力：35\n",
            "OK\n"
          ]
        }
      ],
      "source": [
        "# 課題３: 昇順の並び\n",
        "\n",
        "a = int(input(\"最初の数字を入力：\"))\n",
        "b = int(input(\"２番目の数字を入力：\"))\n",
        "c = int(input(\"最後の数字を入力：\"))\n",
        "\n",
        "if a <= b and b <= c:\n",
        "    print(\"OK\")\n",
        "else:\n",
        "    print(\"NG\")"
      ]
    },
    {
      "cell_type": "markdown",
      "source": [
        "(解説) ２つの条件文を論理演算 `and` で結ぶ例である。\n",
        "\n",
        "特段の解説は不要だろう。"
      ],
      "metadata": {
        "id": "mhmaRXXlc9tB"
      }
    },
    {
      "cell_type": "markdown",
      "metadata": {
        "id": "zDQBj8JfFVo-"
      },
      "source": [
        "---\n",
        "## 【課題4】 (2次方程式：その１)\n",
        "２次方程式の係数 a, b, c を入力し，判別式を用いて解のタイプが「２つの異なる実数解」「重解」「虚数解」のいずれであるかを判定するコードを書け。"
      ]
    },
    {
      "cell_type": "code",
      "execution_count": null,
      "metadata": {
        "id": "f8_9xy35FVpC",
        "outputId": "605da322-2cbb-4390-befb-100445520bbf"
      },
      "outputs": [
        {
          "name": "stdout",
          "output_type": "stream",
          "text": [
            "係数 a を入力：1\n",
            "係数 b を入力：-5\n",
            "係数 c を入力：4\n",
            "異なる２つの実数解\n"
          ]
        }
      ],
      "source": [
        "# 課題４: ２次方程式：その１\n",
        "\n",
        "# 異なる２つの実数解のパターン：a=1, b=5, c=2\n",
        "# 重解のパターン：a=1, b=-4, c=4\n",
        "# 虚数解のパターン：a=1, b=3, c=9\n",
        "\n",
        "a = int(input(\"係数 a を入力：\"))\n",
        "b = int(input(\"係数 b を入力：\"))\n",
        "c = int(input(\"係数 c を入力：\"))\n",
        "\n",
        "D = b**2 - 4 * a * c # 判別式\n",
        "if D > 0:\n",
        "    print(\"異なる２つの実数解\")\n",
        "elif D == 0:\n",
        "    print(\"重解\")\n",
        "else:\n",
        "    print(\"虚数解\")"
      ]
    },
    {
      "cell_type": "markdown",
      "source": [
        "(解説) ２次方程式の解のタイプは判別式 $D=b^2-4ac$ により判定可能である。\n",
        "上記のコードは，判別式を素直に実装し，かつ `if` 文で正，ゼロ，負の場合を切り分けている。"
      ],
      "metadata": {
        "id": "RLdCsyfFdMIJ"
      }
    },
    {
      "cell_type": "markdown",
      "metadata": {
        "id": "03pkvv73FVpF"
      },
      "source": [
        "---\n",
        "## 【課題5】(2次方程式：その２)\n",
        "２次方程式の係数 a, b, c を入力し，解を出力するコードを書け。ここで，「２つの異なる実数解」の場合は「3, 5」という形で，「重解」の場合は「3」という形で，「虚数解」の場合は「2+3i, 2-3i」という形で解を出力すること。（注：ルート部を展開すること）"
      ]
    },
    {
      "cell_type": "code",
      "execution_count": null,
      "metadata": {
        "id": "1GjrJ7zHFVpH",
        "outputId": "e0f3a7a7-2b1c-4944-c34c-019161ee1f2a",
        "colab": {
          "base_uri": "https://localhost:8080/"
        }
      },
      "outputs": [
        {
          "output_type": "stream",
          "name": "stdout",
          "text": [
            "係数 a を入力：1\n",
            "係数 b を入力：3\n",
            "係数 c を入力：5\n",
            "虚数解\n",
            "-1.5+1.6583123951777i\n",
            "-1.5-1.6583123951777i\n"
          ]
        }
      ],
      "source": [
        "# 課題５: ２次方程式：その２\n",
        "\n",
        "import math\n",
        "\n",
        "# 異なる２つの実数解のパターン：a=1, b=5, c=2\n",
        "# 重解のパターン：a=1, b=-4, c=4\n",
        "# 虚数解のパターン：a=1, b=3, c=9\n",
        "\n",
        "a = int(input(\"係数 a を入力：\"))\n",
        "b = int(input(\"係数 b を入力：\"))\n",
        "c = int(input(\"係数 c を入力：\"))\n",
        "\n",
        "D = b**2 - 4 * a * c # 判別式\n",
        "if D > 0:\n",
        "    print(\"異なる２つの実数解\")\n",
        "    x1 = (-b + math.sqrt(D)) / (2 * a)\n",
        "    x2 = (-b - math.sqrt(D)) / (2 * a)\n",
        "    print(\"{}, {}\".format(x1, x2))\n",
        "elif D == 0:\n",
        "    print(\"重解\")\n",
        "    x = -b / (2 * a)\n",
        "    print(x)\n",
        "else:\n",
        "    print(\"虚数解\")\n",
        "    real = (-b) / (2 * a) # 実数部 (実部)\n",
        "    imaginary = math.sqrt(-D) / (2 * a) # 虚数部 (虚部)\n",
        "    print(\"{}+{}i\".format(real, imaginary))\n",
        "    print(\"{}-{}i\".format(real, imaginary))"
      ]
    },
    {
      "cell_type": "markdown",
      "source": [
        "(解説) 課題4で取り組んだ「解の判別」を応用する問題である。\n",
        "\n",
        "二次方程式の解の公式は\n",
        "$x=\\frac{-b \\pm \\sqrt{D}}{2a}$ により与えられる。\n",
        "\n",
        "<u>**重解の場合**</u>  \n",
        "$D=0$ ゆえ，解は $x=\\frac{-b}{2a}$ のひとつだけである。\n",
        "\n",
        "<u>**異なる２つの実数解の場合**</u>  \n",
        "プログラムの世界では $\\pm$ 記号は使えないため，方程式の解を\n",
        "$x=\\frac{-b + \\sqrt{D}}{2a}$\n",
        "と\n",
        "$x=\\frac{-b - \\sqrt{D}}{2a}$\n",
        "に分ける必要がある。\n",
        "また，ルート部は `math.sqrt` を用いて展開すればよい。\n",
        "\n",
        "<u>**虚数解の場合**</u>  \n",
        "虚数解が生じるのは $D < 0$ の場合である。\n",
        "一方，解の公式には $\\sqrt{D}$ があり，$D$ が負値の場合，`math.sqrt()` は \"math domain error\"，つまり「`math.sqrt() で扱える範囲でない」というメッセージを発する。\n",
        "\n",
        "この辺りを整合するため，ルートの中身を正値とし，かつ外側に虚数単位 $i$ を書けばよい。数式で表すと，$\\sqrt{D} = \\sqrt{-D} i$ である。\n",
        "\n",
        "以上の $D<0$ に対する対処と「異なる２つの実数解」で述べた理屈を合わせると，$D<0$ における２次方程式の解は\n",
        "$x=\\frac{-b + \\sqrt{-D}i}{2a}$\n",
        "と\n",
        "$x=\\frac{-b - \\sqrt{-D}i}{2a}$\n",
        "となる。\n",
        "次に，上記の解は実数と虚数を含んだ複素数だから，次のように実数部と虚数部を別々に取り出すこととなる。\n",
        "- 実数部：$\\frac{-b}{2a}$\n",
        "- 虚数部：$\\frac{\\sqrt{-D}}{2a}$"
      ],
      "metadata": {
        "id": "vo2O7wcvdg1e"
      }
    },
    {
      "cell_type": "code",
      "source": [
        "# (参考) math.sqrt() に負の数を与えた場合\n",
        "import math\n",
        "math.sqrt(-3)"
      ],
      "metadata": {
        "colab": {
          "base_uri": "https://localhost:8080/",
          "height": 188
        },
        "id": "2uAm2yb3fLNz",
        "outputId": "1b6610ad-f482-4a7c-ecc7-e6c0fd0f88ed"
      },
      "execution_count": null,
      "outputs": [
        {
          "output_type": "error",
          "ename": "ValueError",
          "evalue": "ignored",
          "traceback": [
            "\u001b[0;31m---------------------------------------------------------------------------\u001b[0m",
            "\u001b[0;31mValueError\u001b[0m                                Traceback (most recent call last)",
            "\u001b[0;32m<ipython-input-8-c4e360f36233>\u001b[0m in \u001b[0;36m<module>\u001b[0;34m()\u001b[0m\n\u001b[1;32m      1\u001b[0m \u001b[0;32mimport\u001b[0m \u001b[0mmath\u001b[0m\u001b[0;34m\u001b[0m\u001b[0;34m\u001b[0m\u001b[0m\n\u001b[0;32m----> 2\u001b[0;31m \u001b[0mmath\u001b[0m\u001b[0;34m.\u001b[0m\u001b[0msqrt\u001b[0m\u001b[0;34m(\u001b[0m\u001b[0;34m-\u001b[0m\u001b[0;36m3\u001b[0m\u001b[0;34m)\u001b[0m\u001b[0;34m\u001b[0m\u001b[0;34m\u001b[0m\u001b[0m\n\u001b[0m",
            "\u001b[0;31mValueError\u001b[0m: math domain error"
          ]
        }
      ]
    },
    {
      "cell_type": "markdown",
      "metadata": {
        "id": "nl9UHS3tFVpK"
      },
      "source": [
        "---\n",
        "## 【課題6】(3n+1 問題)\n",
        "最初に２以上の整数を入力する。\n",
        "\n",
        "入力された整数 n に対して，次の操作をする。\n",
        "1. n が偶数ならば 2 で割る。(結果を改めて変数 n へ値を代入する)\n",
        "1. n が奇数ならば３倍して１を足す。（結果を改めて変数 n へ値を代入する)\n",
        "1. 操作１ないし２を，n の値が 1 になるまで繰り返す。\n",
        "\n",
        "以上において，n の値の変化を随時，出力すること。\n"
      ]
    },
    {
      "cell_type": "code",
      "execution_count": null,
      "metadata": {
        "id": "GCwc3lKvFVpM",
        "outputId": "c53c121e-8d2b-498d-a835-060e2405a466"
      },
      "outputs": [
        {
          "name": "stdout",
          "output_type": "stream",
          "text": [
            "値を入力:5\n",
            "5\n",
            "16\n",
            "8\n",
            "4\n",
            "2\n",
            "1\n"
          ]
        }
      ],
      "source": [
        "# 課題６: 3n+1問題\n",
        "\n",
        "n = int(input(\"値を入力:\"))\n",
        "while n != 1:\n",
        "    print(int(n))\n",
        "    if n % 2 == 0:\n",
        "        n = n / 2\n",
        "    else:\n",
        "        n = n * 3 + 1\n",
        "\n",
        "print(int(n))"
      ]
    },
    {
      "cell_type": "markdown",
      "source": [
        "(解説) 3n+1 問題は，入力値に応じて繰り返し回数が決まる。逆に言うと，予め繰り返し回数が分からない。故に，`while` ループによる実装が適当である。\n",
        "\n",
        "あとは，値が偶数か奇数かによって操作１と操作２を（そのまま）実装すればよい。\n",
        "\n",
        "ところで，上記では `n` の値を表示するところで `int()` 関数を用いている。\n",
        "これは，Python における計算，特に徐算した結果が必ず実数となるためである。\n",
        "例えば `8 / 2` は `4` でなく，`4.0` となる。\n",
        "\n",
        "この問題を避けるには，除算を `/` 演算子でなく，`//` 演算子で行えばよい。`//` 演算子は商を求めるものだが，この課題では「偶数の場合に 2 で割る」という条件付きだから，必ず割り切れる。\n",
        "\n",
        "ということで，`//` 演算子を用いた別解を以下に示す。"
      ],
      "metadata": {
        "id": "mkAS5ApZhHRe"
      }
    },
    {
      "cell_type": "code",
      "source": [
        "# (別解) こちらの方がエレガント！\n",
        "\n",
        "# 課題６: 3n+1問題\n",
        "\n",
        "n = int(input(\"値を入力:\"))\n",
        "while n != 1:\n",
        "    print(n)\n",
        "    if n % 2 == 0:\n",
        "        n = n // 2\n",
        "    else:\n",
        "        n = n * 3 + 1\n",
        "\n",
        "print(n)"
      ],
      "metadata": {
        "colab": {
          "base_uri": "https://localhost:8080/"
        },
        "id": "cEJgD_9whZ2B",
        "outputId": "89ec5370-a686-45c7-cf4d-78915895793c"
      },
      "execution_count": null,
      "outputs": [
        {
          "output_type": "stream",
          "name": "stdout",
          "text": [
            "値を入力:5\n",
            "5\n",
            "16\n",
            "8\n",
            "4\n",
            "2\n",
            "1\n"
          ]
        }
      ]
    },
    {
      "cell_type": "markdown",
      "metadata": {
        "id": "8urkpHb9FVpO"
      },
      "source": [
        "---\n",
        "## 【課題7】(加減算しかできない電卓)\n",
        "整数および演算記号（+ または -）を次々と入力し，演算する「しょぼい電卓」を作れ。ただし，ゼロを入力した時点で計算を終了するものとする。"
      ]
    },
    {
      "cell_type": "code",
      "execution_count": null,
      "metadata": {
        "id": "mz6KKJ2wFVpS",
        "outputId": "d3bf2a1a-81d4-48e4-eaf0-4087c1a44af2",
        "colab": {
          "base_uri": "https://localhost:8080/"
        }
      },
      "outputs": [
        {
          "output_type": "stream",
          "name": "stdout",
          "text": [
            "数を入力:3\n",
            "記号を入力:+\n",
            "数を入力:5\n",
            "記号を入力:-\n",
            "数を入力:15\n",
            "記号を入力:+\n",
            "数を入力:0\n",
            "結果: -7\n"
          ]
        }
      ],
      "source": [
        "# 課題７: 加減算しかできない電卓\n",
        "\n",
        "n = int(input(\"数を入力:\"))\n",
        "result = n\n",
        "\n",
        "while n != 0:\n",
        "    op = input(\"記号を入力:\")\n",
        "\n",
        "    n = int(input(\"数を入力:\"))\n",
        "\n",
        "    if op == '+':\n",
        "        result += n\n",
        "    elif op == '-':\n",
        "        result -= n\n",
        "\n",
        "print(\"結果: {}\".format(result))"
      ]
    },
    {
      "cell_type": "markdown",
      "source": [
        "(解説) 多分，上記のコード以外はあり得ないと思う。\n",
        "\n",
        "ポイントは，`while` ループに入る前に「最初の値を入力させる」こと！\n",
        "\n",
        "ちなみに，「`while` ループ内に数値入力部を入れた」以下のコードは思い通りに動かない。その理由を考えてみて欲しい。"
      ],
      "metadata": {
        "id": "yR4O_BH8j-NH"
      }
    },
    {
      "cell_type": "code",
      "execution_count": null,
      "metadata": {
        "id": "2vf3owbCFVpU",
        "colab": {
          "base_uri": "https://localhost:8080/"
        },
        "outputId": "ff39d310-3900-43d4-fd42-42ac1d136bef"
      },
      "outputs": [
        {
          "output_type": "stream",
          "name": "stdout",
          "text": [
            "数を入力:3\n",
            "記号を入力:+\n",
            "数を入力:5\n",
            "記号を入力:-\n",
            "数を入力:15\n",
            "記号を入力:+\n",
            "数を入力:0\n",
            "結果: 13\n"
          ]
        }
      ],
      "source": [
        "# バグを含むコード\n",
        "\n",
        "# 課題７: 加減算しかできない電卓\n",
        "\n",
        "result = 0\n",
        "\n",
        "while True:\n",
        "    n = int(input(\"数を入力:\"))\n",
        "    if n == 0:\n",
        "        break\n",
        "\n",
        "    op = input(\"記号を入力:\")\n",
        "\n",
        "    if op == '+':\n",
        "        result += n\n",
        "    elif op == '-':\n",
        "        result -= n\n",
        "\n",
        "print(\"結果: {}\".format(result))"
      ]
    }
  ],
  "metadata": {
    "kernelspec": {
      "display_name": "Python 3",
      "language": "python",
      "name": "python3"
    },
    "language_info": {
      "codemirror_mode": {
        "name": "ipython",
        "version": 3
      },
      "file_extension": ".py",
      "mimetype": "text/x-python",
      "name": "python",
      "nbconvert_exporter": "python",
      "pygments_lexer": "ipython3",
      "version": "3.8.5"
    },
    "colab": {
      "provenance": [],
      "include_colab_link": true
    }
  },
  "nbformat": 4,
  "nbformat_minor": 0
}