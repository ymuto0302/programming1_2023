{
  "cells": [
    {
      "cell_type": "markdown",
      "metadata": {
        "id": "view-in-github",
        "colab_type": "text"
      },
      "source": [
        "<a href=\"https://colab.research.google.com/github/ymuto0302/programming1_2023/blob/main/07_%E6%9D%A1%E4%BB%B6%E5%88%86%E5%B2%90(if%E6%96%87)_%E8%AB%96%E7%90%86%E6%BC%94%E7%AE%97_%E3%83%AA%E3%82%B9%E3%83%88%E3%81%B8%E3%81%AE%E9%81%A9%E7%94%A8.ipynb\" target=\"_parent\"><img src=\"https://colab.research.google.com/assets/colab-badge.svg\" alt=\"Open In Colab\"/></a>"
      ]
    },
    {
      "cell_type": "markdown",
      "metadata": {
        "id": "8na8Hy2HC9va"
      },
      "source": [
        "# 【解説】07_条件分岐(if文)_論理演算_リストへの適用"
      ]
    },
    {
      "cell_type": "markdown",
      "metadata": {
        "id": "6Yj0P-EsC9vd"
      },
      "source": [
        "---\n",
        "##【課題1】成績(整数)を入力し，その値が80点以上ならば「優」，70～79点ならば「良」，60～69点ならば「可」，59点以下ならば「不可」と表示するコードを書け。"
      ]
    },
    {
      "cell_type": "code",
      "execution_count": null,
      "metadata": {
        "id": "QM-fHGt2C9ve",
        "outputId": "1ef6f520-12d3-4c10-ec04-ef56ee9da893",
        "colab": {
          "base_uri": "https://localhost:8080/"
        }
      },
      "outputs": [
        {
          "output_type": "stream",
          "name": "stdout",
          "text": [
            "成績を入力：75\n",
            "良\n"
          ]
        }
      ],
      "source": [
        "score = int(input(\"成績を入力：\"))\n",
        "\n",
        "if score >= 80:\n",
        "    print(\"優\")\n",
        "elif 70 <= score and score <= 79:\n",
        "    print(\"良\")\n",
        "elif 60 <= score and score <= 69:\n",
        "    print(\"良\")\n",
        "else:\n",
        "    print(\"不可\")"
      ]
    },
    {
      "cell_type": "markdown",
      "source": [
        "(解説) 成績が「70～79点」の間にある，を表現するため，「70点以上」と「79点以下」を `and` で結べばよい。「60～69点」についても同様です。\n",
        "\n",
        "また，`if`文や `elif`文中の条件式の書き方は２通り，考えられます。\n",
        "すなわち，\n",
        "```\n",
        "70 <= score and score <= 79\n",
        "```\n",
        "と\n",
        "```\n",
        "score >= 70 and score <= 79\n",
        "```\n",
        "\n",
        "いずれの表現でも OK です。"
      ],
      "metadata": {
        "id": "sXO4KILN1CmY"
      }
    },
    {
      "cell_type": "code",
      "source": [
        "score = int(input(\"成績を入力：\"))\n",
        "\n",
        "if score >= 80:\n",
        "    print(\"優\")\n",
        "elif score >= 70 and score <= 79:\n",
        "    print(\"良\")\n",
        "elif score >= 60 and score <= 69:\n",
        "    print(\"良\")\n",
        "else:\n",
        "    print(\"不可\")"
      ],
      "metadata": {
        "colab": {
          "base_uri": "https://localhost:8080/"
        },
        "id": "oruG9_2W1sbI",
        "outputId": "090dd5e9-2b37-4d9f-953c-ebc30d2b2181"
      },
      "execution_count": null,
      "outputs": [
        {
          "output_type": "stream",
          "name": "stdout",
          "text": [
            "成績を入力：85\n",
            "優\n"
          ]
        }
      ]
    },
    {
      "cell_type": "markdown",
      "metadata": {
        "id": "F1_I-E_gC9vg"
      },
      "source": [
        "---\n",
        "## 【課題2】整数を入力し，それが「正の奇数」，「正の偶数」，「0以下」のいずれであるかを判定せよ。（例えば「正の奇数」の場合，その旨のメッセージを出力すること）"
      ]
    },
    {
      "cell_type": "code",
      "source": [
        "num = int(input(\"整数を入力：\"))\n",
        "\n",
        "if num <= 0:\n",
        "    print(\"0以下\")\n",
        "else:\n",
        "    if num % 2 != 0: # 奇数\n",
        "        print(\"正の奇数\")\n",
        "    else: # 偶数\n",
        "        print(\"正の偶数\")"
      ],
      "metadata": {
        "colab": {
          "base_uri": "https://localhost:8080/"
        },
        "id": "svGI7QSRmYCC",
        "outputId": "4c1fd56a-992a-4a7e-dad1-57e209b3eac3"
      },
      "execution_count": null,
      "outputs": [
        {
          "output_type": "stream",
          "name": "stdout",
          "text": [
            "整数を入力：5\n",
            "正の奇数\n"
          ]
        }
      ]
    },
    {
      "cell_type": "markdown",
      "source": [
        "(解説) 奇数／偶数の判断は「２で割った際の剰余」を利用すればよい。当然，偶数は２で割り切れ，奇数は割り切れない。故に `num % 2 == 0` ならば偶数，`num % 2 != 0` ならば奇数である。\n",
        "\n",
        "また，ゼロ以下と正数を区別するための `if`文は，上記のようにネストすると\n",
        "- ゼロ以下 or 正数\n",
        "- 正数の場合，偶数 or 奇数\n",
        "\n",
        "とレベル分けの考え方が直接的にコードに反映される。"
      ],
      "metadata": {
        "id": "K-g2htw_uenP"
      }
    },
    {
      "cell_type": "markdown",
      "metadata": {
        "id": "AQAuhQhoC9vh"
      },
      "source": [
        "---\n",
        "## 【課題3】0～100の範囲の乱数を１つ生成し，その数が「３または４または５の倍数」の場合は「当たり」，そうでなければ「はずれ」と表示するコードを書け。"
      ]
    },
    {
      "cell_type": "code",
      "execution_count": null,
      "metadata": {
        "colab": {
          "base_uri": "https://localhost:8080/"
        },
        "id": "cM5eajaMC9vh",
        "outputId": "dd3e6147-ae29-4b94-fa26-7ac294a5832c"
      },
      "outputs": [
        {
          "output_type": "stream",
          "name": "stdout",
          "text": [
            "生成された乱数：88\n",
            "当たり\n"
          ]
        }
      ],
      "source": [
        "import random\n",
        "\n",
        "r = random.randint(0, 101)\n",
        "print(\"生成された乱数：{}\".format(r))\n",
        "\n",
        "if r % 3 == 0 or r % 4 == 0 or r % 5 == 0:\n",
        "    print(\"当たり\")\n",
        "else:\n",
        "    print(\"はずれ\")"
      ]
    },
    {
      "cell_type": "markdown",
      "source": [
        "(解説) 乱数生成には `random` モジュールを用いるのであった。\n",
        "乱数生成のメソッドとして `randint()` と `randrange()` のいずれを用いても構わない。\n",
        "\n",
        "また，「３の倍数」の判断は「３で割った際の剰余がゼロであること」でなされる。上記では「３または４または５の倍数」の判断だから，３つの条件式を `or` で結べばよい。"
      ],
      "metadata": {
        "id": "rPudTFuo4b6G"
      }
    },
    {
      "cell_type": "markdown",
      "source": [
        "---\n",
        "## 【課題4】整数を入力し，それが「3または4の倍数でなく，5の倍数である」場合に，「見つけた！」というメッセージを表示するコードを書け。  \n",
        "(例) 10 はOK，15 はNG，20 もNG，25 はOK。"
      ],
      "metadata": {
        "id": "TO6fEwGcwLjm"
      }
    },
    {
      "cell_type": "code",
      "source": [
        "num = int(input(\"整数を入力:\"))\n",
        "\n",
        "if not(num % 3 == 0 or num % 4 == 0) and num % 5 == 0:\n",
        "    print(\"見つけた！\")"
      ],
      "metadata": {
        "colab": {
          "base_uri": "https://localhost:8080/"
        },
        "id": "pMFPM8nppO4C",
        "outputId": "a4c9af54-a3e0-4f37-c05a-30903073a029"
      },
      "execution_count": null,
      "outputs": [
        {
          "output_type": "stream",
          "name": "stdout",
          "text": [
            "整数を入力:25\n",
            "見つけた！\n"
          ]
        }
      ]
    },
    {
      "cell_type": "markdown",
      "source": [
        "（解説）この課題は，文意を読み取るのが難しい。\n",
        "\n",
        "上記は条件を直接的に書いたコードである。すなわち\n",
        "- ３または４の倍数である → `num % 3 == 0 or num % 4 == 0`\n",
        "- ３または４の倍数でない → `not(num % 3 == 0 or num % 4 == 0)`\n",
        "- ３または４の倍数でなく，(かつ)５の倍数である → `not(num % 3 == 0 or num % 4 == 0) and num % 5 == 0`\n",
        "\n",
        "また，ベン図を描くと分かるが，次の条件式でもいける。"
      ],
      "metadata": {
        "id": "JFXMOFmzpmjP"
      }
    },
    {
      "cell_type": "code",
      "source": [
        "num = int(input(\"整数を入力:\"))\n",
        "\n",
        "if num % 3 != 0 and num % 4 != 0 and num % 5 == 0:\n",
        "    print(\"見つけた！\")"
      ],
      "metadata": {
        "id": "vLKTIuHZr62Z",
        "colab": {
          "base_uri": "https://localhost:8080/"
        },
        "outputId": "915cc5b7-67b8-4ff7-cf5c-edc430d993a1"
      },
      "execution_count": null,
      "outputs": [
        {
          "name": "stdout",
          "output_type": "stream",
          "text": [
            "整数を入力:20\n"
          ]
        }
      ]
    },
    {
      "cell_type": "markdown",
      "source": [
        "---\n",
        "## 【課題5】予め次のリストを定義する。適当な文字列を与え，それがリストkyusyuに含まれる場合，「九州の県です」と表示するコードを書け。\n",
        "```\n",
        "kyusyu= [\"fukuoka\", \"saga\", \"nagasaki\", \"kumamoto\", \"oita\", \"miyazaki\", \"kagoshima\", \"okinawa\"]\n",
        "```\n"
      ],
      "metadata": {
        "id": "dmph-p8EEcYR"
      }
    },
    {
      "cell_type": "code",
      "source": [
        "kyusyu= [\"fukuoka\", \"saga\", \"nagasaki\", \"kumamoto\", \"oita\", \"miyazaki\", \"kagoshima\", \"okinawa\"]\n",
        "\n",
        "s = input(\"県名を入力：\")\n",
        "if s in kyusyu:\n",
        "    print(\"九州の県です\")"
      ],
      "metadata": {
        "colab": {
          "base_uri": "https://localhost:8080/"
        },
        "id": "fH6Db6l3EEBL",
        "outputId": "17436486-45df-4ec8-c183-2422ed22a08c"
      },
      "execution_count": null,
      "outputs": [
        {
          "output_type": "stream",
          "name": "stdout",
          "text": [
            "県名を入力：saga\n",
            "九州の県です\n"
          ]
        }
      ]
    },
    {
      "cell_type": "markdown",
      "source": [
        "(解説) リストに対する `in` 演算子の利用例である。  \n",
        "条件式 `x in リスト` はリスト中に `x` が含まれる場合に `True` となる。"
      ],
      "metadata": {
        "id": "BF2I0anfE19v"
      }
    }
  ],
  "metadata": {
    "kernelspec": {
      "display_name": "Python 3",
      "language": "python",
      "name": "python3"
    },
    "language_info": {
      "codemirror_mode": {
        "name": "ipython",
        "version": 3
      },
      "file_extension": ".py",
      "mimetype": "text/x-python",
      "name": "python",
      "nbconvert_exporter": "python",
      "pygments_lexer": "ipython3",
      "version": "3.8.5"
    },
    "colab": {
      "provenance": [],
      "include_colab_link": true
    }
  },
  "nbformat": 4,
  "nbformat_minor": 0
}