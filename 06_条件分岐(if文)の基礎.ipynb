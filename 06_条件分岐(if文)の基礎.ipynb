{
  "cells": [
    {
      "cell_type": "markdown",
      "metadata": {
        "id": "view-in-github",
        "colab_type": "text"
      },
      "source": [
        "<a href=\"https://colab.research.google.com/github/ymuto0302/programming1_2023/blob/main/06_%E6%9D%A1%E4%BB%B6%E5%88%86%E5%B2%90(if%E6%96%87)%E3%81%AE%E5%9F%BA%E7%A4%8E.ipynb\" target=\"_parent\"><img src=\"https://colab.research.google.com/assets/colab-badge.svg\" alt=\"Open In Colab\"/></a>"
      ]
    },
    {
      "cell_type": "markdown",
      "metadata": {
        "id": "8na8Hy2HC9va"
      },
      "source": [
        "# 【解説】06_条件分岐(if文)の基礎"
      ]
    },
    {
      "cell_type": "markdown",
      "metadata": {
        "id": "6Yj0P-EsC9vd"
      },
      "source": [
        "---\n",
        "##【課題1】実数を入力し，その数が0以上ならpositive，そうでなければnegativeと表示するコードを書け。"
      ]
    },
    {
      "cell_type": "code",
      "execution_count": null,
      "metadata": {
        "id": "QM-fHGt2C9ve",
        "outputId": "aa2f37a8-ba62-4829-d066-9b6905bd7641",
        "colab": {
          "base_uri": "https://localhost:8080/"
        }
      },
      "outputs": [
        {
          "output_type": "stream",
          "name": "stdout",
          "text": [
            "実数を入力：-5\n",
            "negative\n"
          ]
        }
      ],
      "source": [
        "num = float(input(\"実数を入力：\"))\n",
        "\n",
        "if num >= 0:\n",
        "    print(\"positive\")\n",
        "else:\n",
        "    print(\"negative\")"
      ]
    },
    {
      "cell_type": "markdown",
      "source": [
        "(解説) ２択にしたい場合の `if〜else` 文の基本的な使い方です。\n",
        "\n",
        "また，次のように `if` 文を２つ並べても同様の機能を実現できますが，２つの `if` 文が両方とも評価されてしまう無駄があったり，「いずれか一方のみに当てはまる」という意図を掴みづらいことから `if〜else` を使うべきです。"
      ],
      "metadata": {
        "id": "sXO4KILN1CmY"
      }
    },
    {
      "cell_type": "code",
      "source": [
        "# 奨励しないコード例\n",
        "num = float(input(\"実数を入力：\"))\n",
        "\n",
        "if num >= 0:\n",
        "    print(\"positive\")\n",
        "if num < 0:\n",
        "    print(\"negative\")"
      ],
      "metadata": {
        "colab": {
          "base_uri": "https://localhost:8080/"
        },
        "id": "oruG9_2W1sbI",
        "outputId": "8ce82df9-cdbb-46ad-e240-91b72f6c61af"
      },
      "execution_count": null,
      "outputs": [
        {
          "output_type": "stream",
          "name": "stdout",
          "text": [
            "実数を入力：-5\n",
            "negative\n"
          ]
        }
      ]
    },
    {
      "cell_type": "markdown",
      "metadata": {
        "id": "F1_I-E_gC9vg"
      },
      "source": [
        "---\n",
        "## 【課題2】整数を入力し，その値が２の倍数ならば「２の倍数です」，３の倍数ならば「３の倍数です」，５の倍数ならば「５の倍数です」，さらに以上に当てはまらない場合は「２，３または５の倍数でない」と表示するコードを書け。"
      ]
    },
    {
      "cell_type": "code",
      "source": [
        "num = int(input(\"整数を入力：\"))\n",
        "\n",
        "if num % 2 == 0:\n",
        "    print(\"2の倍数です\")\n",
        "elif num % 3 == 0:\n",
        "    print(\"3の倍数です\")\n",
        "elif num % 5 == 0:\n",
        "    print(\"5の倍数です\")\n",
        "else:\n",
        "    print(\"2, 3 または 5 の倍数でない\")"
      ],
      "metadata": {
        "colab": {
          "base_uri": "https://localhost:8080/"
        },
        "id": "svGI7QSRmYCC",
        "outputId": "5abb9988-86d6-46d7-ac94-15ab785d0e8f"
      },
      "execution_count": null,
      "outputs": [
        {
          "output_type": "stream",
          "name": "stdout",
          "text": [
            "整数を入力：15\n",
            "3の倍数です\n"
          ]
        }
      ]
    },
    {
      "cell_type": "markdown",
      "source": [
        "(解説) `if〜elif〜else` 文の典型例です。\n",
        "\n",
        "6 のように「２の倍数」であり，同時に「３の倍数」の場合，どうなるのか？ という疑問がごもっともですが，ここでは「最初に２の倍数であるかを判断して，該当すればそれ以上を突き詰めない」という考え方でコードを書いています。\n",
        "\n",
        "もし 6 に対して「２かつ３の倍数である」と言いたければ，次のコードでいけそうです。（注：この時点では論理演算 (`and` / `or` / `not`) を教えていません。）"
      ],
      "metadata": {
        "id": "K-g2htw_uenP"
      }
    },
    {
      "cell_type": "code",
      "source": [
        "num = int(input(\"整数を入力：\"))\n",
        "\n",
        "if num % 2 != 0 and num % 3 != 0 and num % 5 != 0:\n",
        "    print(\"2, 3 または 5 の倍数でない\")\n",
        "else:\n",
        "    if num % 2 == 0:\n",
        "        print(\"2の倍数です\")\n",
        "    if num % 3 == 0:\n",
        "        print(\"3の倍数です\")\n",
        "    if num % 5 == 0:\n",
        "        print(\"5の倍数です\")\n"
      ],
      "metadata": {
        "colab": {
          "base_uri": "https://localhost:8080/"
        },
        "id": "uEJ0DvUq255A",
        "outputId": "566a1a65-bc40-41da-e313-435b65e4fda6"
      },
      "execution_count": null,
      "outputs": [
        {
          "output_type": "stream",
          "name": "stdout",
          "text": [
            "整数を入力：13\n",
            "2, 3 または 5 の倍数でない\n"
          ]
        }
      ]
    },
    {
      "cell_type": "markdown",
      "metadata": {
        "id": "AQAuhQhoC9vh"
      },
      "source": [
        "---\n",
        "## 【課題3】２つの整数x, y を入力し，x < y の場合は「yをx で割った剰余」を，そうでない場合は「y をx で割った結果」を表示するコードを書け。ただし，x がゼロの場合，「値が不正です」と表示し，プログラムを終了すること。"
      ]
    },
    {
      "cell_type": "code",
      "source": [
        "x = int(input(\"整数 x を入力：\"))\n",
        "y = int(input(\"整数 y を入力：\"))\n",
        "\n",
        "if x == 0:\n",
        "    print(\"値が不正です\")\n",
        "elif x < y:\n",
        "    print(y % x) # y を x で割った剰余\n",
        "else:\n",
        "    print(y / x) # y を x で割った結果"
      ],
      "metadata": {
        "colab": {
          "base_uri": "https://localhost:8080/"
        },
        "id": "Q2pW_dhqVzS_",
        "outputId": "d15f289b-d10a-4dda-90ae-e38029851795"
      },
      "execution_count": null,
      "outputs": [
        {
          "output_type": "stream",
          "name": "stdout",
          "text": [
            "整数 x を入力：4\n",
            "整数 y を入力：13\n",
            "1\n"
          ]
        }
      ]
    },
    {
      "cell_type": "markdown",
      "source": [
        "（解説）最初に「x がゼロであるか」をチェックするのがポイントです。\n",
        "`x` がゼロでない場合のみ、割り算 `y / x` や剰余の計算 `y % x` が可能となります。"
      ],
      "metadata": {
        "id": "hgsLcS2aV5s9"
      }
    },
    {
      "cell_type": "code",
      "execution_count": null,
      "metadata": {
        "colab": {
          "base_uri": "https://localhost:8080/"
        },
        "id": "cM5eajaMC9vh",
        "outputId": "f0d385a8-ac3f-4e65-ba71-042af7419853"
      },
      "outputs": [
        {
          "output_type": "stream",
          "name": "stdout",
          "text": [
            "整数 x を入力：8\n",
            "整数 y を入力：3\n",
            "0.375\n"
          ]
        }
      ],
      "source": [
        "x = int(input(\"整数 x を入力：\"))\n",
        "y = int(input(\"整数 y を入力：\"))\n",
        "\n",
        "if x == 0:\n",
        "    print(\"値が不正です\")\n",
        "else:\n",
        "    if x < y:\n",
        "        print(y % x) # y を x で割った剰余\n",
        "    else:\n",
        "        print(y / x) # y を x で割った結果"
      ]
    },
    {
      "cell_type": "markdown",
      "source": [
        "(解説) `if`文のネストで表現するのが分かりやすい例です。\n",
        "剰余 `y%x` と除算 `y/x` のいずれも分母の `x` がゼロの場合，演算できないことから，予め `x==0` のケースと `x!=0` のケースに分ける方が筋がよい。\n",
        "\n",
        "もちろん，次のように，先に `x!=0` で場合分けしてもよい。\n"
      ],
      "metadata": {
        "id": "rPudTFuo4b6G"
      }
    },
    {
      "cell_type": "code",
      "source": [
        "x = int(input(\"整数 x を入力：\"))\n",
        "y = int(input(\"整数 y を入力：\"))\n",
        "\n",
        "if x != 0:\n",
        "    if x < y:\n",
        "        print(y % x) # y を x で割った剰余\n",
        "    else:\n",
        "        print(y / x) # y を x で割った結果\n",
        "else:\n",
        "    print(\"値が不正です\")\n"
      ],
      "metadata": {
        "colab": {
          "base_uri": "https://localhost:8080/"
        },
        "id": "VQBJ6_K34bnD",
        "outputId": "44969399-52f1-45ec-9b3d-ad25cf307598"
      },
      "execution_count": null,
      "outputs": [
        {
          "output_type": "stream",
          "name": "stdout",
          "text": [
            "整数 x を入力：0\n",
            "整数 y を入力：4\n",
            "値が不正です\n"
          ]
        }
      ]
    },
    {
      "cell_type": "markdown",
      "source": [
        "なお，論理演算子 `and` を使うと次のコードも書けるが，`if x!=0` が２箇所に出てくるからエレガントでない。"
      ],
      "metadata": {
        "id": "uJ61N54X5wn7"
      }
    },
    {
      "cell_type": "code",
      "source": [
        "x = int(input(\"整数 x を入力：\"))\n",
        "y = int(input(\"整数 y を入力：\"))\n",
        "\n",
        "if x != 0 and x < y:\n",
        "    print(y % x) # y を x で割った剰余\n",
        "elif x != 0 and x > y:\n",
        "    print(y / x) # y を x で割った結果\n",
        "else:\n",
        "    print(\"値が不正です\")\n"
      ],
      "metadata": {
        "colab": {
          "base_uri": "https://localhost:8080/"
        },
        "id": "wPgwsuu35Ezs",
        "outputId": "98eeece0-486f-4208-9581-e97543bc4633"
      },
      "execution_count": null,
      "outputs": [
        {
          "output_type": "stream",
          "name": "stdout",
          "text": [
            "整数 x を入力：0\n",
            "整数 y を入力：2\n",
            "値が不正です\n"
          ]
        }
      ]
    },
    {
      "cell_type": "markdown",
      "source": [
        "---\n",
        "## 【課題4】授業で触れなかったが，if 文では文字列同士の比較もできる。例えば，変数s に代入された値が\"hello\" か否かを判定するには，if s == \"hello\" という形で条件文を書けばよい。**さて，入力された文字列が\"hello\" ならば「こんにちは」，そうでなければ「何，言ってんの？」と表示するコードを書け。**"
      ],
      "metadata": {
        "id": "TO6fEwGcwLjm"
      }
    },
    {
      "cell_type": "code",
      "source": [
        "s = input(\"文字列を入力:\")\n",
        "\n",
        "if s == \"hello\":\n",
        "    print(\"こんにちは\")\n",
        "else:\n",
        "    print(\"何，言ってんの？\")"
      ],
      "metadata": {
        "colab": {
          "base_uri": "https://localhost:8080/"
        },
        "id": "pMFPM8nppO4C",
        "outputId": "f53d8a17-e417-469d-a7c6-e14bd20d59df"
      },
      "execution_count": null,
      "outputs": [
        {
          "output_type": "stream",
          "name": "stdout",
          "text": [
            "文字列を入力:kumamushi\n",
            "何，言ってんの？\n"
          ]
        }
      ]
    },
    {
      "cell_type": "markdown",
      "source": [
        "（解説）この課題は易しすぎるから解説不要だろう。\n",
        "\n",
        "出題の意図は２つ：\n",
        "1. 文字列でも「等しさの比較」が可能と知ること\n",
        "1. しばらく数値を入力させていたが，「`input()` 関数は文字列を返す」という特性を思い出してもらうこと"
      ],
      "metadata": {
        "id": "JFXMOFmzpmjP"
      }
    }
  ],
  "metadata": {
    "kernelspec": {
      "display_name": "Python 3",
      "language": "python",
      "name": "python3"
    },
    "language_info": {
      "codemirror_mode": {
        "name": "ipython",
        "version": 3
      },
      "file_extension": ".py",
      "mimetype": "text/x-python",
      "name": "python",
      "nbconvert_exporter": "python",
      "pygments_lexer": "ipython3",
      "version": "3.8.5"
    },
    "colab": {
      "provenance": [],
      "include_colab_link": true
    }
  },
  "nbformat": 4,
  "nbformat_minor": 0
}