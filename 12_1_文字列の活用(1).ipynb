{
  "cells": [
    {
      "cell_type": "markdown",
      "metadata": {
        "id": "view-in-github",
        "colab_type": "text"
      },
      "source": [
        "<a href=\"https://colab.research.google.com/github/ymuto0302/programming1_2023/blob/main/12_1_%E6%96%87%E5%AD%97%E5%88%97%E3%81%AE%E6%B4%BB%E7%94%A8(1).ipynb\" target=\"_parent\"><img src=\"https://colab.research.google.com/assets/colab-badge.svg\" alt=\"Open In Colab\"/></a>"
      ]
    },
    {
      "cell_type": "markdown",
      "metadata": {
        "id": "G2YQDAVGFVoJ"
      },
      "source": [
        "# 【解説】12-1_文字列の活用\n",
        "## 前半「課題１：不思議の国のアリス，課題２：シーザー暗号」の解説\n",
        "\n"
      ]
    },
    {
      "cell_type": "markdown",
      "source": [
        "---\n",
        "## 【課題1】不思議の国のアリス\n",
        "先述のコードは「文字列のリスト」であり，個々の文(文字列)がリストの要素となっている。"
      ],
      "metadata": {
        "id": "lf-UlB8QTpcO"
      }
    },
    {
      "cell_type": "markdown",
      "source": [
        "予め alice_doc を定義しておく。"
      ],
      "metadata": {
        "id": "lknFi0ijYaj9"
      }
    },
    {
      "cell_type": "code",
      "source": [
        "alice_doc = [\"Alice was beginning to get very tired of sitting by her sister on the bank, and of having nothing to do: once or twice she had peeped into the book her sister was reading, but it had no pictures or conversations in it, 'and what is the use of a book,' thought Alice 'without pictures or conversation?'\",\n",
        "\t\"So she was considering in her own mind (as well as she could, for the hot day made her feel very sleepy and stupid), whether the pleasure of making a daisy-chain would be worth the trouble of getting up and picking the daisies, when suddenly a White Rabbit with pink eyes ran close by her.\",\n",
        "\t\"There was nothing so VERY remarkable in that; nor did Alice think it so VERY much out of the way to hear the Rabbit say to itself, 'Oh dear! Oh dear! I shall be late!' (when she thought it over afterwards, it occurred to her that she ought to have wondered at this, but at the time it all seemed quite natural); but when the Rabbit actually TOOK A WATCH OUT OF ITS WAISTCOAT-POCKET, and looked at it, and then hurried on, Alice started to her feet, for it flashed across her mind that she had never before seen a rabbit with either a waistcoat-pocket, or a watch to take out of it, and burning with curiosity, she ran across the field after it, and fortunately was just in time to see it pop down a large rabbit-hole under the hedge.\",\n",
        "\t\"In another moment down went Alice after it, never once considering how in the world she was to get out again.\",\n",
        "\t\"The rabbit-hole went straight on like a tunnel for some way, and then dipped suddenly down, so suddenly that Alice had not a moment to think about stopping herself before she found herself falling down a very deep well.\"]"
      ],
      "metadata": {
        "id": "M6P9TGxUYW6D"
      },
      "execution_count": null,
      "outputs": []
    },
    {
      "cell_type": "markdown",
      "metadata": {
        "id": "uz3CbxWVFVoc"
      },
      "source": [
        "### 1. このリストに含まれる文の数を数えよ。"
      ]
    },
    {
      "cell_type": "code",
      "execution_count": null,
      "metadata": {
        "scrolled": true,
        "id": "UFNnkRT-FVoh",
        "outputId": "10502f4e-a11f-4a1b-9730-dd6b5f0e3202",
        "colab": {
          "base_uri": "https://localhost:8080/"
        }
      },
      "outputs": [
        {
          "output_type": "stream",
          "name": "stdout",
          "text": [
            "5\n"
          ]
        }
      ],
      "source": [
        "print(len(alice_doc))"
      ]
    },
    {
      "cell_type": "markdown",
      "source": [
        "(解説) 各文は，リストに含まれる要素と解釈されるから，`len()`関数を用いて要素数を数えればよい。"
      ],
      "metadata": {
        "id": "8lowEbL2P_Cg"
      }
    },
    {
      "cell_type": "markdown",
      "metadata": {
        "id": "yLB9G52wFVor"
      },
      "source": [
        "### 2. この文章を全て大文字化して表示せよ。"
      ]
    },
    {
      "cell_type": "code",
      "execution_count": null,
      "metadata": {
        "scrolled": false,
        "id": "g01xNGyNFVov",
        "outputId": "1cfd5599-d18f-4e63-e419-24499cca6a41",
        "colab": {
          "base_uri": "https://localhost:8080/"
        }
      },
      "outputs": [
        {
          "output_type": "stream",
          "name": "stdout",
          "text": [
            "ALICE WAS BEGINNING TO GET VERY TIRED OF SITTING BY HER SISTER ON THE BANK, AND OF HAVING NOTHING TO DO: ONCE OR TWICE SHE HAD PEEPED INTO THE BOOK HER SISTER WAS READING, BUT IT HAD NO PICTURES OR CONVERSATIONS IN IT, 'AND WHAT IS THE USE OF A BOOK,' THOUGHT ALICE 'WITHOUT PICTURES OR CONVERSATION?'\n",
            "SO SHE WAS CONSIDERING IN HER OWN MIND (AS WELL AS SHE COULD, FOR THE HOT DAY MADE HER FEEL VERY SLEEPY AND STUPID), WHETHER THE PLEASURE OF MAKING A DAISY-CHAIN WOULD BE WORTH THE TROUBLE OF GETTING UP AND PICKING THE DAISIES, WHEN SUDDENLY A WHITE RABBIT WITH PINK EYES RAN CLOSE BY HER.\n",
            "THERE WAS NOTHING SO VERY REMARKABLE IN THAT; NOR DID ALICE THINK IT SO VERY MUCH OUT OF THE WAY TO HEAR THE RABBIT SAY TO ITSELF, 'OH DEAR! OH DEAR! I SHALL BE LATE!' (WHEN SHE THOUGHT IT OVER AFTERWARDS, IT OCCURRED TO HER THAT SHE OUGHT TO HAVE WONDERED AT THIS, BUT AT THE TIME IT ALL SEEMED QUITE NATURAL); BUT WHEN THE RABBIT ACTUALLY TOOK A WATCH OUT OF ITS WAISTCOAT-POCKET, AND LOOKED AT IT, AND THEN HURRIED ON, ALICE STARTED TO HER FEET, FOR IT FLASHED ACROSS HER MIND THAT SHE HAD NEVER BEFORE SEEN A RABBIT WITH EITHER A WAISTCOAT-POCKET, OR A WATCH TO TAKE OUT OF IT, AND BURNING WITH CURIOSITY, SHE RAN ACROSS THE FIELD AFTER IT, AND FORTUNATELY WAS JUST IN TIME TO SEE IT POP DOWN A LARGE RABBIT-HOLE UNDER THE HEDGE.\n",
            "IN ANOTHER MOMENT DOWN WENT ALICE AFTER IT, NEVER ONCE CONSIDERING HOW IN THE WORLD SHE WAS TO GET OUT AGAIN.\n",
            "THE RABBIT-HOLE WENT STRAIGHT ON LIKE A TUNNEL FOR SOME WAY, AND THEN DIPPED SUDDENLY DOWN, SO SUDDENLY THAT ALICE HAD NOT A MOMENT TO THINK ABOUT STOPPING HERSELF BEFORE SHE FOUND HERSELF FALLING DOWN A VERY DEEP WELL.\n"
          ]
        }
      ],
      "source": [
        "for sentence in alice_doc:\n",
        "    print(sentence.upper())"
      ]
    },
    {
      "cell_type": "markdown",
      "source": [
        "(解説) `for`文により `alice_doc` 内の各文を順次，取り出し，`upper()`メソッドを適用する。"
      ],
      "metadata": {
        "id": "uP1eC0ezbXkh"
      }
    },
    {
      "cell_type": "markdown",
      "metadata": {
        "id": "47FQtAPbFVo3"
      },
      "source": [
        "### 3. この文章に \"Alice\" が何個，含まれるか，数えよ。"
      ]
    },
    {
      "cell_type": "code",
      "execution_count": null,
      "metadata": {
        "id": "c51T7dsLFVo7",
        "outputId": "57069742-e608-47df-934a-7872868ca590",
        "colab": {
          "base_uri": "https://localhost:8080/"
        }
      },
      "outputs": [
        {
          "output_type": "stream",
          "name": "stdout",
          "text": [
            "Alice の個数は6\n"
          ]
        }
      ],
      "source": [
        "alice_count = 0\n",
        "for sentence in alice_doc:\n",
        "    c = sentence.count(\"Alice\") # 各文に含まれる \"Alice\" の個数を数える\n",
        "    alice_count += c\n",
        "\n",
        "print(\"Alice の個数は{}\".format(alice_count))\n",
        "    "
      ]
    },
    {
      "cell_type": "markdown",
      "source": [
        "(解説) `for`文の中で，各文に含まれる \"Alice\" の個数を数えるには `count()`メソッドを用いる。\n",
        "\n",
        "一方，文章全体で何個の \"Alice\" が含まれるか，が問われているから，各文の \"Alice\" の個数を積み上げる変数として `alice_count` を準備する。これに「各文に現れる \"Alice\" の個数」を足し込む。"
      ],
      "metadata": {
        "id": "mhmaRXXlc9tB"
      }
    },
    {
      "cell_type": "markdown",
      "metadata": {
        "id": "zDQBj8JfFVo-"
      },
      "source": [
        "### 4. この文章に含まれる \"Alice\" を \"自分の名前\" に置き換えて，表示せよ。"
      ]
    },
    {
      "cell_type": "code",
      "execution_count": null,
      "metadata": {
        "id": "f8_9xy35FVpC",
        "outputId": "02a885ec-7c17-438e-a202-4d245699c41e",
        "colab": {
          "base_uri": "https://localhost:8080/"
        }
      },
      "outputs": [
        {
          "output_type": "stream",
          "name": "stdout",
          "text": [
            "武藤 was beginning to get very tired of sitting by her sister on the bank, and of having nothing to do: once or twice she had peeped into the book her sister was reading, but it had no pictures or conversations in it, 'and what is the use of a book,' thought 武藤 'without pictures or conversation?'\n",
            "So she was considering in her own mind (as well as she could, for the hot day made her feel very sleepy and stupid), whether the pleasure of making a daisy-chain would be worth the trouble of getting up and picking the daisies, when suddenly a White Rabbit with pink eyes ran close by her.\n",
            "There was nothing so VERY remarkable in that; nor did 武藤 think it so VERY much out of the way to hear the Rabbit say to itself, 'Oh dear! Oh dear! I shall be late!' (when she thought it over afterwards, it occurred to her that she ought to have wondered at this, but at the time it all seemed quite natural); but when the Rabbit actually TOOK A WATCH OUT OF ITS WAISTCOAT-POCKET, and looked at it, and then hurried on, 武藤 started to her feet, for it flashed across her mind that she had never before seen a rabbit with either a waistcoat-pocket, or a watch to take out of it, and burning with curiosity, she ran across the field after it, and fortunately was just in time to see it pop down a large rabbit-hole under the hedge.\n",
            "In another moment down went 武藤 after it, never once considering how in the world she was to get out again.\n",
            "The rabbit-hole went straight on like a tunnel for some way, and then dipped suddenly down, so suddenly that 武藤 had not a moment to think about stopping herself before she found herself falling down a very deep well.\n"
          ]
        }
      ],
      "source": [
        "for sentence in alice_doc:\n",
        "    print(sentence.replace(\"Alice\", \"武藤\"))"
      ]
    },
    {
      "cell_type": "markdown",
      "source": [
        "(解説) `for`文で１文ずつ取り出し，それに `replace()` メソッドを適用する。"
      ],
      "metadata": {
        "id": "RLdCsyfFdMIJ"
      }
    },
    {
      "cell_type": "markdown",
      "source": [
        "---\n",
        "## 課題２：シーザー暗号\n",
        "シーザー暗号とは，平文(plain text)の全ての文字を指定した文字数だけシフトして\n",
        "暗号文(cipher text)を作り出す手法である。  \n",
        "例えば１文字だけ後ろにシフトする場合，次のようになる。\n",
        "```\n",
        "[平文] HAL → [暗号文] IBM\n",
        "[平文] ILOVEYOU → [暗号文] JMPWFZPV\n",
        "```\n",
        "プログラム作成の大まかな手順は以下のとおり：\n",
        "1. 適当な文字列を入力する。(input関数) ・・・・文字列にスペースを含めないこと！\n",
        "1. 全て大文字化し，これを平文とする。(upper メソッド）\n",
        "1. １文字だけシフトしたシーザ暗号文を作る。"
      ],
      "metadata": {
        "id": "jRfd5SogUPGo"
      }
    },
    {
      "cell_type": "markdown",
      "source": [
        "(解説) シーザー暗号の課題は次の３バージョンが存在する。\n",
        "- 基本となる課題：１文字だけシフトする／平文にスペースを含まない\n",
        "- extra：１文字だけシフトする／平文にスペースを含むのも可。ただし，スペースは変換しない\n",
        "- extra の extra：任意の文字数，シフトする／平文にスペースを含むのも可。ただし，スペースは変換しない\n",
        "\n",
        "なお，以下では「文字列の入力 ＆ 大文字化」を省略し，`plain = \"ABZ\"` という形で固定文字列としている。  \n",
        "文字列の入力 ＆ 大文字化は，次のコードで可能である。"
      ],
      "metadata": {
        "id": "U5keCNUVUqXf"
      }
    },
    {
      "cell_type": "code",
      "source": [
        "s = input(\"アルファベットから構成される文字列を入力：\")\n",
        "plain = s.upper()\n",
        "\n",
        "print(plain) # 挙動確認のための出力"
      ],
      "metadata": {
        "colab": {
          "base_uri": "https://localhost:8080/"
        },
        "id": "OSgsTJhGUw5Q",
        "outputId": "36d95b8b-1d4b-42e8-fd82-88696bb175ae"
      },
      "execution_count": null,
      "outputs": [
        {
          "output_type": "stream",
          "name": "stdout",
          "text": [
            "アルファベットから構成される文字列を入力：abc xyz\n",
            "ABC XYZ\n"
          ]
        }
      ]
    },
    {
      "cell_type": "markdown",
      "source": [
        "---\n",
        "### １文字だけシフトするバージョン\n",
        "最初に最も簡単なコードを示す。  \n",
        "ここでケアすべき事項は「文字 `Z` は `A` へ変換される」という点である。"
      ],
      "metadata": {
        "id": "ZipIDVchU5WI"
      }
    },
    {
      "cell_type": "code",
      "source": [
        "plain = \"abz\" # input() による入力は本質的でないため，省略\n",
        "\n",
        "# 入力文字列を大文字可\n",
        "plain = plain.upper()\n",
        "\n",
        "cipher = \"\" # 暗号文を格納するための文字列\n",
        "for ch in plain:\n",
        "    # 入力文字が 'Z' の場合のみ特別扱い。その他の文字は ord /chr を用いてひとつずらす。\n",
        "    if ch == 'Z':\n",
        "        slide_ch = 'A'\n",
        "    else:\n",
        "        ascii_code = ord(ch) # 文字 ch のアスキーコードを取得\n",
        "        ascii_code += 1 # ひとつずらす\n",
        "        slide_ch = chr(ascii_code) # アスキーコードから文字へ変換\n",
        "\n",
        "    # 暗号文に変換後の文字を追加\n",
        "    cipher += slide_ch # 変換後の文字を暗号文に追加\n",
        "\n",
        "# 結果の表示\n",
        "print(cipher)"
      ],
      "metadata": {
        "colab": {
          "base_uri": "https://localhost:8080/"
        },
        "id": "93K19M00VWQQ",
        "outputId": "391bd172-dd85-4369-fd2f-dfc5a801c52c"
      },
      "execution_count": null,
      "outputs": [
        {
          "output_type": "stream",
          "name": "stdout",
          "text": [
            "BCA\n"
          ]
        }
      ]
    },
    {
      "cell_type": "markdown",
      "source": [
        "(解説) 上記のコード中のコメントを見れば，一目瞭然だろう。  \n",
        "変換後の文字を格納する変数 `slide_ch'` は\n",
        "- 入力文字が \"Z\" の場合，明示的に `slide_ch = 'A'` という形で値を設定する。\n",
        "- \"Z\" でない場合，\n",
        "    - `ord()` 関数を用いてアスキーコードへ変換する。この時点で \"A\" は 65へ，\"B\" は 66 といった値へ置き換えられる。\n",
        "    - 変数 `ascii_code` の値をひとつ増やす。これが「１文字シフト」に該当する。\n",
        "    - 変換後の文字を `chr()` 関数を用いて文字へ戻す。\n",
        "\n",
        "以上の変換の後，変数 `cipher` へ「変換後の文字」を追加していく。\n",
        "（ここで「文字列の和 = 文字列の結合」が利用されることを思い出そう！）"
      ],
      "metadata": {
        "id": "1nWQD41wWiFe"
      }
    },
    {
      "cell_type": "markdown",
      "source": [
        "(解説) さて，上記のアルゴリズムは「１文字シフト」の場合は有効に動作するが，「２文字シフト」や「３文字シフト」となると破綻する。\n",
        "\n",
        "そこで，より汎用的なコードを以下に示す。"
      ],
      "metadata": {
        "id": "3jVPcA6_XkVh"
      }
    },
    {
      "cell_type": "code",
      "source": [
        "plain = \"ABZ\" # 平文\n",
        "\n",
        "cipher = \"\" # 暗号文を格納するための文字列\n",
        "for ch in plain:\n",
        "    tmp1 = ord(ch) - ord('A') # 文字 A に対応するアスキーコード 65 を 0 へシフト。他の文字も同様。\n",
        "    tmp2 = tmp1 + 1 # １文字だけシフト\n",
        "    tmp3 = tmp2 % (ord('Z') - ord('A') + 1) # アルファベットの文字数 26 で割ったときの剰余\n",
        "    tmp4 = tmp3 + ord('A') # 本来のアスキーコードへ戻す\n",
        "    slide_ch = chr(tmp4) # アスキーコードから文字へ変換\n",
        "\n",
        "    cipher += slide_ch # 変換後の文字を暗号文に追加\n",
        "\n",
        "print(cipher)"
      ],
      "metadata": {
        "id": "Vc-sYAwIUxPu"
      },
      "execution_count": null,
      "outputs": []
    },
    {
      "cell_type": "markdown",
      "source": [
        "(解説) アルファベット大文字は ASCII コードにより次のように定義されている。すなわち，文字は内部的に数値である。\n",
        "\n",
        "|アルファベット|10進数|\n",
        "|:---:|:----:|\n",
        "|A|65|\n",
        "|B|66|\n",
        "|C|67|\n",
        "|・・・|・・・|\n",
        "|Y|89|\n",
        "|Z|90|\n",
        "\n",
        "例えば文字列 \"ABC\" は「65, 66, 67」という数値の並びである。\n",
        "\n",
        "また，アルファベットは（大文字に限れば）26種類である点にも注意する。\n",
        "\n",
        "上記のコードでは，次の手順をとっている。\n",
        "1. 最初に \"A\"～\"Z\" に「0～25」が当たるよう，調整している。これにより文字列 \"ABC\" は「0, 1, 2」という数値の並びとなる。\n",
        "1. １文字シフトするため，ASCII コードに１を足す。これにより「0, 1, 2」という並びは「1, 2, 3」へ変換される。\n",
        "1. ここで問題が発生する。\"Z\" の ASCII コードは 90 であり，冒頭の調整により 25 に置き換えられている。これに 1 を加えると 26 となり，『\"A\"～\"Z\" に「0～25」が当たる』というルールをはみ出す。ここで \"Z\" は 0 に変化して欲しい。  \n",
        "そこで，得られた値（＝ここでは 26）に対して「26で割った剰余」を割り当てる。\n",
        "1. 最後に，元の ASCII コードへ戻し，`chr()` 関数により文字表現を得る。\n",
        "\n",
        "上記で分かりにくいのは 3. のステップだろう。\n",
        "\n",
        "ここで３文字シフトする場合を考えよう。上記のステップを文字列 \"ABXYZ\" に当てはめた場合の値の変化を下表に示す。\n",
        "\n",
        "|変換前の文字|ASCIIコード|0～25を割り当てる|３文字シフト|26で割った剰余|ASCIIコードへ戻す|変換後の文字|\n",
        "|:---:|:----:|:---:|:---:|:---:|:---:|:---:|\n",
        "|A|65|0|3|3|68|D|\n",
        "|B|66|1|4|4|69|E|\n",
        "|X|88|23|26|0|65|A|\n",
        "|Y|89|24|27|1|66|B|\n",
        "|Z|90|25|28|2|67|C|"
      ],
      "metadata": {
        "id": "-372jD6vVAdo"
      }
    }
  ],
  "metadata": {
    "kernelspec": {
      "display_name": "Python 3",
      "language": "python",
      "name": "python3"
    },
    "language_info": {
      "codemirror_mode": {
        "name": "ipython",
        "version": 3
      },
      "file_extension": ".py",
      "mimetype": "text/x-python",
      "name": "python",
      "nbconvert_exporter": "python",
      "pygments_lexer": "ipython3",
      "version": "3.8.5"
    },
    "colab": {
      "provenance": [],
      "include_colab_link": true
    }
  },
  "nbformat": 4,
  "nbformat_minor": 0
}