{
  "cells": [
    {
      "cell_type": "markdown",
      "metadata": {
        "id": "view-in-github",
        "colab_type": "text"
      },
      "source": [
        "<a href=\"https://colab.research.google.com/github/ymuto0302/programming1_2023/blob/main/09_%E5%8F%8D%E5%BE%A9(for%E6%96%87%2Cwhile%E6%96%87)%E3%81%AE%E6%B4%BB%E7%94%A8.ipynb\" target=\"_parent\"><img src=\"https://colab.research.google.com/assets/colab-badge.svg\" alt=\"Open In Colab\"/></a>"
      ]
    },
    {
      "cell_type": "markdown",
      "metadata": {
        "id": "8na8Hy2HC9va"
      },
      "source": [
        "# 【解説】09_反復(for文,while文)の活用"
      ]
    },
    {
      "cell_type": "markdown",
      "metadata": {
        "id": "6Yj0P-EsC9vd"
      },
      "source": [
        "---\n",
        "##【課題1】整数を次々と入力し，それらを足し込んだ結果を出力せよ。入力される整数の個数は予め決まっておらず，（足しても意味のない）ゼロを入力した時点で加算の終了＆結果出力とする。\n",
        "\n",
        "実行イメージは以下のとおり：\n",
        "```\n",
        "整数を入力: 4\n",
        "整数を入力: 7\n",
        "整数を入力: 0\n",
        "加算の結果は11\n",
        "```"
      ]
    },
    {
      "cell_type": "code",
      "execution_count": null,
      "metadata": {
        "id": "QM-fHGt2C9ve",
        "outputId": "ec48c505-26d2-44db-cf19-6520a834e0db",
        "colab": {
          "base_uri": "https://localhost:8080/"
        }
      },
      "outputs": [
        {
          "output_type": "stream",
          "name": "stdout",
          "text": [
            "整数を入力: 4\n",
            "整数を入力: 7\n",
            "整数を入力: 8\n",
            "整数を入力: 0\n",
            "加算の結果は19\n"
          ]
        }
      ],
      "source": [
        "s = 0 # 和を格納する変数\n",
        "while True:\n",
        "    num = int(input(\"整数を入力: \"))\n",
        "    if num == 0:\n",
        "        break\n",
        "    else:\n",
        "        s += num\n",
        "\n",
        "print(\"加算の結果は{}\".format(s))"
      ]
    },
    {
      "cell_type": "markdown",
      "source": [
        "(解説) この課題では，繰り返し回数が未知であるため，`while`文を用いた**無限ループ**が基本となる。ここで繰り返しを終了（中断）させる条件は「ゼロが入力された段階」である。  \n",
        "故に，上記のように，`while`ループの中に `if num == 0:` が成立した場合，ループを飛び出す(＝`break`する）作りとなっている。\n",
        "\n",
        "なお，上記のコードでは `if`～`else` 文を用いて「入力値がゼロの場合」と「入力値がゼロ」でない場合を明示的に示しているが，次のように `if` ブロックの外側に `s += num` を置いても問題ない。"
      ],
      "metadata": {
        "id": "sXO4KILN1CmY"
      }
    },
    {
      "cell_type": "code",
      "source": [
        "s = 0 # 和を格納する変数\n",
        "while True:\n",
        "    num = int(input(\"整数を入力: \"))\n",
        "    if num == 0:\n",
        "        break\n",
        "    \n",
        "    s += num\n",
        "\n",
        "print(\"加算の結果は{}\".format(s))"
      ],
      "metadata": {
        "colab": {
          "base_uri": "https://localhost:8080/"
        },
        "id": "cTTD80QB3ImX",
        "outputId": "7c0bec17-c1e1-4689-859e-65d5c704945a"
      },
      "execution_count": null,
      "outputs": [
        {
          "output_type": "stream",
          "name": "stdout",
          "text": [
            "整数を入力: 5\n",
            "整数を入力: -7\n",
            "整数を入力: 0\n",
            "加算の結果は-2\n"
          ]
        }
      ]
    },
    {
      "cell_type": "markdown",
      "metadata": {
        "id": "F1_I-E_gC9vg"
      },
      "source": [
        "---\n",
        "## 【課題2】「for文のネスト」を用いた「九九」について，７が関係する積の場合のみ「７の倍数を知りません」と表示し，その他は通常通りに表示せよ。(continue 文を利用すること）\n",
        "\n",
        "出力イメージは以下のとおり：\n",
        "```\n",
        "2×6 = 12\n",
        "7の倍数を知りません\n",
        "2×8 = 16\n",
        "```"
      ]
    },
    {
      "cell_type": "code",
      "source": [
        "for x in range(1, 10):\n",
        "    for y in range(1, 10):\n",
        "        if x == 7 or y == 7:\n",
        "            print(\"7の倍数を知りません\")\n",
        "            continue\n",
        "        print(\"{}×{} = {}\".format(x, y, x*y))"
      ],
      "metadata": {
        "colab": {
          "base_uri": "https://localhost:8080/"
        },
        "id": "svGI7QSRmYCC",
        "outputId": "2265af8f-67ce-4c96-ef65-7ffc73f0bd5a"
      },
      "execution_count": 3,
      "outputs": [
        {
          "output_type": "stream",
          "name": "stdout",
          "text": [
            "1×1 = 1\n",
            "1×2 = 2\n",
            "1×3 = 3\n",
            "1×4 = 4\n",
            "1×5 = 5\n",
            "1×6 = 6\n",
            "7の倍数を知りません\n",
            "1×8 = 8\n",
            "1×9 = 9\n",
            "2×1 = 2\n",
            "2×2 = 4\n",
            "2×3 = 6\n",
            "2×4 = 8\n",
            "2×5 = 10\n",
            "2×6 = 12\n",
            "7の倍数を知りません\n",
            "2×8 = 16\n",
            "2×9 = 18\n",
            "3×1 = 3\n",
            "3×2 = 6\n",
            "3×3 = 9\n",
            "3×4 = 12\n",
            "3×5 = 15\n",
            "3×6 = 18\n",
            "7の倍数を知りません\n",
            "3×8 = 24\n",
            "3×9 = 27\n",
            "4×1 = 4\n",
            "4×2 = 8\n",
            "4×3 = 12\n",
            "4×4 = 16\n",
            "4×5 = 20\n",
            "4×6 = 24\n",
            "7の倍数を知りません\n",
            "4×8 = 32\n",
            "4×9 = 36\n",
            "5×1 = 5\n",
            "5×2 = 10\n",
            "5×3 = 15\n",
            "5×4 = 20\n",
            "5×5 = 25\n",
            "5×6 = 30\n",
            "7の倍数を知りません\n",
            "5×8 = 40\n",
            "5×9 = 45\n",
            "6×1 = 6\n",
            "6×2 = 12\n",
            "6×3 = 18\n",
            "6×4 = 24\n",
            "6×5 = 30\n",
            "6×6 = 36\n",
            "7の倍数を知りません\n",
            "6×8 = 48\n",
            "6×9 = 54\n",
            "7の倍数を知りません\n",
            "7の倍数を知りません\n",
            "7の倍数を知りません\n",
            "7の倍数を知りません\n",
            "7の倍数を知りません\n",
            "7の倍数を知りません\n",
            "7の倍数を知りません\n",
            "7の倍数を知りません\n",
            "7の倍数を知りません\n",
            "8×1 = 8\n",
            "8×2 = 16\n",
            "8×3 = 24\n",
            "8×4 = 32\n",
            "8×5 = 40\n",
            "8×6 = 48\n",
            "7の倍数を知りません\n",
            "8×8 = 64\n",
            "8×9 = 72\n",
            "9×1 = 9\n",
            "9×2 = 18\n",
            "9×3 = 27\n",
            "9×4 = 36\n",
            "9×5 = 45\n",
            "9×6 = 54\n",
            "7の倍数を知りません\n",
            "9×8 = 72\n",
            "9×9 = 81\n"
          ]
        }
      ]
    },
    {
      "cell_type": "markdown",
      "source": [
        "(解説) 九九の表を作るにあたり「`for`文のネスト」を使うのは，テキストに掲載されている。ここで「７が関係する積のみ特別扱いすること」と「`continue`文を使うこと」が要求されているから，上記のようなコードとなるだろう。  \n",
        "つまり，積 `x * y` を `if` 文と併置するのがポイントである。"
      ],
      "metadata": {
        "id": "kn5JSHExZtUK"
      }
    },
    {
      "cell_type": "markdown",
      "source": [
        "または，一旦，積を計算しておき，その結果が７で割り切れる場合に `continue` してもよいだろう。"
      ],
      "metadata": {
        "id": "G1KIuFI1YjJQ"
      }
    },
    {
      "cell_type": "code",
      "source": [
        "for x in range(1, 10):\n",
        "    for y in range(1, 10):\n",
        "        product = x * y\n",
        "        if product % 7 == 0:\n",
        "            print(\"7の倍数を知りません\")\n",
        "            continue\n",
        "        print(\"{}×{} = {}\".format(x, y, product))"
      ],
      "metadata": {
        "colab": {
          "base_uri": "https://localhost:8080/"
        },
        "id": "ID5uPdUpYtJS",
        "outputId": "23c09d21-b9b1-4d16-ddbf-b0883add8056"
      },
      "execution_count": 2,
      "outputs": [
        {
          "output_type": "stream",
          "name": "stdout",
          "text": [
            "1×1 = 1\n",
            "1×2 = 2\n",
            "1×3 = 3\n",
            "1×4 = 4\n",
            "1×5 = 5\n",
            "1×6 = 6\n",
            "7の倍数を知りません\n",
            "1×8 = 8\n",
            "1×9 = 9\n",
            "2×1 = 2\n",
            "2×2 = 4\n",
            "2×3 = 6\n",
            "2×4 = 8\n",
            "2×5 = 10\n",
            "2×6 = 12\n",
            "7の倍数を知りません\n",
            "2×8 = 16\n",
            "2×9 = 18\n",
            "3×1 = 3\n",
            "3×2 = 6\n",
            "3×3 = 9\n",
            "3×4 = 12\n",
            "3×5 = 15\n",
            "3×6 = 18\n",
            "7の倍数を知りません\n",
            "3×8 = 24\n",
            "3×9 = 27\n",
            "4×1 = 4\n",
            "4×2 = 8\n",
            "4×3 = 12\n",
            "4×4 = 16\n",
            "4×5 = 20\n",
            "4×6 = 24\n",
            "7の倍数を知りません\n",
            "4×8 = 32\n",
            "4×9 = 36\n",
            "5×1 = 5\n",
            "5×2 = 10\n",
            "5×3 = 15\n",
            "5×4 = 20\n",
            "5×5 = 25\n",
            "5×6 = 30\n",
            "7の倍数を知りません\n",
            "5×8 = 40\n",
            "5×9 = 45\n",
            "6×1 = 6\n",
            "6×2 = 12\n",
            "6×3 = 18\n",
            "6×4 = 24\n",
            "6×5 = 30\n",
            "6×6 = 36\n",
            "7の倍数を知りません\n",
            "6×8 = 48\n",
            "6×9 = 54\n",
            "7の倍数を知りません\n",
            "7の倍数を知りません\n",
            "7の倍数を知りません\n",
            "7の倍数を知りません\n",
            "7の倍数を知りません\n",
            "7の倍数を知りません\n",
            "7の倍数を知りません\n",
            "7の倍数を知りません\n",
            "7の倍数を知りません\n",
            "8×1 = 8\n",
            "8×2 = 16\n",
            "8×3 = 24\n",
            "8×4 = 32\n",
            "8×5 = 40\n",
            "8×6 = 48\n",
            "7の倍数を知りません\n",
            "8×8 = 64\n",
            "8×9 = 72\n",
            "9×1 = 9\n",
            "9×2 = 18\n",
            "9×3 = 27\n",
            "9×4 = 36\n",
            "9×5 = 45\n",
            "9×6 = 54\n",
            "7の倍数を知りません\n",
            "9×8 = 72\n",
            "9×9 = 81\n"
          ]
        }
      ]
    },
    {
      "cell_type": "markdown",
      "source": [
        "ちなみに「`continue`文を使うこと」という要求がなければ，次のコードとなるだろう。"
      ],
      "metadata": {
        "id": "K-g2htw_uenP"
      }
    },
    {
      "cell_type": "code",
      "source": [
        "for x in range(1, 10):\n",
        "    for y in range(1, 10):\n",
        "        if x == 7 or y == 7:\n",
        "            print(\"7の倍数を知りません\")\n",
        "        else:\n",
        "            print(\"{}×{} = {}\".format(x, y, x*y))"
      ],
      "metadata": {
        "colab": {
          "base_uri": "https://localhost:8080/"
        },
        "id": "SW3HGmqc4aZS",
        "outputId": "27d5eaf4-9855-4a00-8a3e-4fa5720884f0"
      },
      "execution_count": 4,
      "outputs": [
        {
          "output_type": "stream",
          "name": "stdout",
          "text": [
            "1×1 = 1\n",
            "1×2 = 2\n",
            "1×3 = 3\n",
            "1×4 = 4\n",
            "1×5 = 5\n",
            "1×6 = 6\n",
            "7の倍数を知りません\n",
            "1×8 = 8\n",
            "1×9 = 9\n",
            "2×1 = 2\n",
            "2×2 = 4\n",
            "2×3 = 6\n",
            "2×4 = 8\n",
            "2×5 = 10\n",
            "2×6 = 12\n",
            "7の倍数を知りません\n",
            "2×8 = 16\n",
            "2×9 = 18\n",
            "3×1 = 3\n",
            "3×2 = 6\n",
            "3×3 = 9\n",
            "3×4 = 12\n",
            "3×5 = 15\n",
            "3×6 = 18\n",
            "7の倍数を知りません\n",
            "3×8 = 24\n",
            "3×9 = 27\n",
            "4×1 = 4\n",
            "4×2 = 8\n",
            "4×3 = 12\n",
            "4×4 = 16\n",
            "4×5 = 20\n",
            "4×6 = 24\n",
            "7の倍数を知りません\n",
            "4×8 = 32\n",
            "4×9 = 36\n",
            "5×1 = 5\n",
            "5×2 = 10\n",
            "5×3 = 15\n",
            "5×4 = 20\n",
            "5×5 = 25\n",
            "5×6 = 30\n",
            "7の倍数を知りません\n",
            "5×8 = 40\n",
            "5×9 = 45\n",
            "6×1 = 6\n",
            "6×2 = 12\n",
            "6×3 = 18\n",
            "6×4 = 24\n",
            "6×5 = 30\n",
            "6×6 = 36\n",
            "7の倍数を知りません\n",
            "6×8 = 48\n",
            "6×9 = 54\n",
            "7の倍数を知りません\n",
            "7の倍数を知りません\n",
            "7の倍数を知りません\n",
            "7の倍数を知りません\n",
            "7の倍数を知りません\n",
            "7の倍数を知りません\n",
            "7の倍数を知りません\n",
            "7の倍数を知りません\n",
            "7の倍数を知りません\n",
            "8×1 = 8\n",
            "8×2 = 16\n",
            "8×3 = 24\n",
            "8×4 = 32\n",
            "8×5 = 40\n",
            "8×6 = 48\n",
            "7の倍数を知りません\n",
            "8×8 = 64\n",
            "8×9 = 72\n",
            "9×1 = 9\n",
            "9×2 = 18\n",
            "9×3 = 27\n",
            "9×4 = 36\n",
            "9×5 = 45\n",
            "9×6 = 54\n",
            "7の倍数を知りません\n",
            "9×8 = 72\n",
            "9×9 = 81\n"
          ]
        }
      ]
    },
    {
      "cell_type": "markdown",
      "metadata": {
        "id": "AQAuhQhoC9vh"
      },
      "source": [
        "---\n",
        "## 【課題3】最初に0～30 の範囲で乱数r を生成せよ。次に整数x を入力し，x < r の場合は「正解より小さい」，x > r の場合は「正解より大きい」と表示する。これをx とr が一致するまで繰り返し，一致した場合は「正解！」としてプログラムを終了する。"
      ]
    },
    {
      "cell_type": "code",
      "execution_count": null,
      "metadata": {
        "colab": {
          "base_uri": "https://localhost:8080/"
        },
        "id": "cM5eajaMC9vh",
        "outputId": "7533442c-9610-40ac-da6c-8096b45e2d5e"
      },
      "outputs": [
        {
          "output_type": "stream",
          "name": "stdout",
          "text": [
            "整数を入力: 15\n",
            "→ 正解より小さい\n",
            "整数を入力: 25\n",
            "→ 正解より大きい\n",
            "整数を入力: 23\n",
            "→ 正解より大きい\n",
            "整数を入力: 20\n",
            "→ 正解より大きい\n",
            "整数を入力: 18\n",
            "→ 正解！！\n"
          ]
        }
      ],
      "source": [
        "import random\n",
        "\n",
        "r = random.randint(0, 30)\n",
        "while True:\n",
        "    x = int(input(\"整数を入力: \"))\n",
        "    if x < r:\n",
        "        print(\"→ 正解より小さい\")\n",
        "    elif x > r:\n",
        "        print(\"→ 正解より大きい\")\n",
        "    else: # x と r が等しい場合\n",
        "        print(\"→ 正解！！\")\n",
        "        break"
      ]
    },
    {
      "cell_type": "markdown",
      "source": [
        "(解説) これは「隠されて見えない `r` の値」を入力値に対する大小から推定する問題である。  \n",
        "まず，繰り返し回数が予め定まらないことから `while`文を用いた無限ループが適当である。  \n",
        "次に，無限ループを飛び出す条件は「入力値と `r` の値が一致した場合」である。\n",
        "\n",
        "以上に加えて，`入力値 > r` ならば「正解より大きい」，`入力値 < r` ならば「正解より小さい」と，異なるメッセージを表示するため，`if`～`elif`～`else` による場合分けが必要となる。"
      ],
      "metadata": {
        "id": "rPudTFuo4b6G"
      }
    }
  ],
  "metadata": {
    "kernelspec": {
      "display_name": "Python 3",
      "language": "python",
      "name": "python3"
    },
    "language_info": {
      "codemirror_mode": {
        "name": "ipython",
        "version": 3
      },
      "file_extension": ".py",
      "mimetype": "text/x-python",
      "name": "python",
      "nbconvert_exporter": "python",
      "pygments_lexer": "ipython3",
      "version": "3.8.5"
    },
    "colab": {
      "provenance": [],
      "include_colab_link": true
    }
  },
  "nbformat": 4,
  "nbformat_minor": 0
}