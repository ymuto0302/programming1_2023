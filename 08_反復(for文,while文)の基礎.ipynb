{
  "cells": [
    {
      "cell_type": "markdown",
      "metadata": {
        "id": "view-in-github",
        "colab_type": "text"
      },
      "source": [
        "<a href=\"https://colab.research.google.com/github/ymuto0302/programming1_2023/blob/main/08_%E5%8F%8D%E5%BE%A9(for%E6%96%87%2Cwhile%E6%96%87)%E3%81%AE%E5%9F%BA%E7%A4%8E.ipynb\" target=\"_parent\"><img src=\"https://colab.research.google.com/assets/colab-badge.svg\" alt=\"Open In Colab\"/></a>"
      ]
    },
    {
      "cell_type": "markdown",
      "metadata": {
        "id": "8na8Hy2HC9va"
      },
      "source": [
        "# 【解説】08_反復(for文,while文)の基礎"
      ]
    },
    {
      "cell_type": "markdown",
      "metadata": {
        "id": "6Yj0P-EsC9vd"
      },
      "source": [
        "---\n",
        "##【課題1】１～100のうち，偶数の和を求めるコードをfor文を用いて書け。（結果は2550となる)"
      ]
    },
    {
      "cell_type": "code",
      "execution_count": null,
      "metadata": {
        "id": "QM-fHGt2C9ve",
        "outputId": "c35625e1-68c8-4772-fba2-2c64e8c6653a",
        "colab": {
          "base_uri": "https://localhost:8080/"
        }
      },
      "outputs": [
        {
          "output_type": "stream",
          "name": "stdout",
          "text": [
            "求める和：2550\n"
          ]
        }
      ],
      "source": [
        "s = 0 # 和を格納する変数\n",
        "for num in range(1, 101):\n",
        "    if num % 2 == 0: # 偶数の判定\n",
        "        s += num\n",
        "\n",
        "print(\"求める和：{}\".format(s))"
      ]
    },
    {
      "cell_type": "markdown",
      "source": [
        "(解説) 偶数は「２で割った際の余りがゼロである数」と表現される。  \n",
        "そこで，上記コードでは値 num を 1 から 100 まで順次，進めて，「２で割った剰余」のチェックにより，偶数のみを変数 `s` へ足し込んでいる。\n",
        "\n",
        "もちろん，1〜100のうち，偶数は 2, 4, 6, ・・・, 100と進む訳だから，次のようなコードも考えられる。すなわち，`for` 文の初期値を `2`，終了値を `100`，増分を `2` としてもよい。"
      ],
      "metadata": {
        "id": "sXO4KILN1CmY"
      }
    },
    {
      "cell_type": "code",
      "source": [
        "s = 0\n",
        "for num in range(2, 101, 2):\n",
        "    s += num\n",
        "\n",
        "print(\"求める和：{}\".format(s))"
      ],
      "metadata": {
        "colab": {
          "base_uri": "https://localhost:8080/"
        },
        "id": "oruG9_2W1sbI",
        "outputId": "725bfc0c-775c-4591-a960-a517bfde5d85"
      },
      "execution_count": null,
      "outputs": [
        {
          "output_type": "stream",
          "name": "stdout",
          "text": [
            "求める和：2550\n"
          ]
        }
      ]
    },
    {
      "cell_type": "markdown",
      "metadata": {
        "id": "F1_I-E_gC9vg"
      },
      "source": [
        "---\n",
        "## 【課題2】2022年4月の山口県における新型コロナウイルス陽性者数は次のように報告されている。４月の陽性者数の総数を求めるコードを書け。\n",
        "```\n",
        "cases = [363, 286, 289, 158, 301, 287, 370, 366, 345, 298, 161, 322, 280, 265, 249, 207, 192, 119, 249, 265, 209, 248, 218, 176, 98, 231, 251, 185, 151, 113]\n",
        "```"
      ]
    },
    {
      "cell_type": "code",
      "source": [
        "cases = [363, 286, 289, 158, 301, 287, 370, 366, 345, 298, 161, 322, 280, 265, 249, 207, 192, 119, 249, 265, 209, 248, 218, 176, 98, 231, 251, 185, 151, 113]\n",
        "\n",
        "s = 0 # 陽性者数の総数を格納する変数\n",
        "for case in cases:\n",
        "    s += case\n",
        "\n",
        "print(\"４月の陽性者数：{}\".format(s))"
      ],
      "metadata": {
        "colab": {
          "base_uri": "https://localhost:8080/"
        },
        "id": "svGI7QSRmYCC",
        "outputId": "4d536d28-7eee-4e32-f86c-de51602fbfef"
      },
      "execution_count": null,
      "outputs": [
        {
          "output_type": "stream",
          "name": "stdout",
          "text": [
            "４月の陽性者数：7252\n"
          ]
        }
      ]
    },
    {
      "cell_type": "markdown",
      "source": [
        "(解説) `for`文の基本は「リストから順次，値を取り出し，何らかの操作を行う」であった。`range()` ばかり使っていると，「リストから値を取り出す」という意味を忘れるから，あえて設定した課題である。\n",
        "\n",
        "和を求めるアルゴリズムは，課題１と同様である。"
      ],
      "metadata": {
        "id": "K-g2htw_uenP"
      }
    },
    {
      "cell_type": "markdown",
      "metadata": {
        "id": "AQAuhQhoC9vh"
      },
      "source": [
        "---\n",
        "## 【課題3】あるアパートは３階建てであり，各階に４部屋がある。ここで，１階の最初に部屋には「1-A」，１階の２番目の部屋には「1-B」，３階の最後の部屋には「3-D」という表札を作りたい。２つのリストfloors=[1,2,3], numbers=[\"A\", \"B\", \"C\", \"D\"] を用いて，全ての部屋の表札を表す文字列を出力せよ。"
      ]
    },
    {
      "cell_type": "code",
      "execution_count": null,
      "metadata": {
        "colab": {
          "base_uri": "https://localhost:8080/"
        },
        "id": "cM5eajaMC9vh",
        "outputId": "b2c3a350-4cd7-4823-8522-378745f52fdd"
      },
      "outputs": [
        {
          "output_type": "stream",
          "name": "stdout",
          "text": [
            "1-A\n",
            "1-B\n",
            "1-C\n",
            "1-D\n",
            "2-A\n",
            "2-B\n",
            "2-C\n",
            "2-D\n",
            "3-A\n",
            "3-B\n",
            "3-C\n",
            "3-D\n"
          ]
        }
      ],
      "source": [
        "floors=[1,2,3]\n",
        "numbers=[\"A\", \"B\", \"C\", \"D\"] \n",
        "\n",
        "for floor in floors:\n",
        "    for number in numbers:\n",
        "        print(str(floor) + \"-\" + number)"
      ]
    },
    {
      "cell_type": "markdown",
      "source": [
        "(解説) 「`for`部のネスト」を用いる課題である。\n",
        "外側の `for`文は，「1, 2, 3」についてループする。\n",
        "内側の `for`文は，外側のループの各々に対して「A, B, C, D」とループする。\n",
        "\n",
        "最終的に「3-D」のような形の文字列を作るため，（整数である）`floor` を `str()`関数により文字列化した上で，文字列の結合を行っている。\n",
        "\n",
        "ちなみに，次のように `format()`メソッドを用いると，`str()`関数は不要となる。"
      ],
      "metadata": {
        "id": "rPudTFuo4b6G"
      }
    },
    {
      "cell_type": "code",
      "source": [
        "floors=[1,2,3]\n",
        "numbers=[\"A\", \"B\", \"C\", \"D\"] \n",
        "\n",
        "for floor in floors:\n",
        "    for number in numbers:\n",
        "        print(\"{}-{}\".format(floor, number))\n",
        "import random"
      ],
      "metadata": {
        "colab": {
          "base_uri": "https://localhost:8080/"
        },
        "id": "9RJ-4BP5KRJn",
        "outputId": "391e9340-9540-481f-9771-59f22e1d5436"
      },
      "execution_count": null,
      "outputs": [
        {
          "output_type": "stream",
          "name": "stdout",
          "text": [
            "1-A\n",
            "1-B\n",
            "1-C\n",
            "1-D\n",
            "2-A\n",
            "2-B\n",
            "2-C\n",
            "2-D\n",
            "3-A\n",
            "3-B\n",
            "3-C\n",
            "3-D\n"
          ]
        }
      ]
    },
    {
      "cell_type": "markdown",
      "source": [
        "---\n",
        "## 【課題4】1～100のうち，「３の倍数の和」を求めるコードをwhile文を用いて書け。（結果は1683となる)"
      ],
      "metadata": {
        "id": "TO6fEwGcwLjm"
      }
    },
    {
      "cell_type": "code",
      "source": [
        "s = 0 # 和を格納する変数\n",
        "num = 1\n",
        "while num <= 100:\n",
        "    if num % 3 == 0:\n",
        "        s += num\n",
        "    num += 1 # これを忘れると無限ループになる\n",
        "\n",
        "print(\"求める和：{}\".format(s))"
      ],
      "metadata": {
        "colab": {
          "base_uri": "https://localhost:8080/"
        },
        "id": "pMFPM8nppO4C",
        "outputId": "98463e31-82bf-4afd-b855-6504d9ed6d98"
      },
      "execution_count": null,
      "outputs": [
        {
          "output_type": "stream",
          "name": "stdout",
          "text": [
            "求める和：1683\n"
          ]
        }
      ]
    },
    {
      "cell_type": "markdown",
      "source": [
        "（解説）`while`文において，カウンタ（ここでは変数 `num`）の値を増加させる仕組みが `while` ブロック内に必要である。\n",
        "これを忘れると，`while`ループが回る間，`num` の値は変化しないから，いつまでもループは止まらない。こういうのを**無限ループ (inifite loop)**と呼ぶ。\n",
        "\n",
        "さて，「３の倍数の和」は，課題１で示した「偶数の和」を少し変更したものである。\n",
        "上記のように `while`ループの中に「３の倍数であるか？」をチェックする `if`文を含めればよい。\n",
        "\n",
        "最後に，参考として `if` 文を使わないコードを以下に示す。しかし，このコードでは「３の倍数のみを扱う」という意図が伝わりにくいから，お薦めしない。"
      ],
      "metadata": {
        "id": "JFXMOFmzpmjP"
      }
    },
    {
      "cell_type": "code",
      "source": [
        "s = 0 # 和を格納する変数\n",
        "num = 3\n",
        "while num <= 100:\n",
        "    s += num\n",
        "    num += 3\n",
        "\n",
        "print(\"求める和：{}\".format(s))"
      ],
      "metadata": {
        "id": "vLKTIuHZr62Z",
        "colab": {
          "base_uri": "https://localhost:8080/"
        },
        "outputId": "78b1f39a-3d16-46c4-bd0d-bcc0d95f9df0"
      },
      "execution_count": null,
      "outputs": [
        {
          "output_type": "stream",
          "name": "stdout",
          "text": [
            "求める和：1683\n"
          ]
        }
      ]
    }
  ],
  "metadata": {
    "kernelspec": {
      "display_name": "Python 3",
      "language": "python",
      "name": "python3"
    },
    "language_info": {
      "codemirror_mode": {
        "name": "ipython",
        "version": 3
      },
      "file_extension": ".py",
      "mimetype": "text/x-python",
      "name": "python",
      "nbconvert_exporter": "python",
      "pygments_lexer": "ipython3",
      "version": "3.8.5"
    },
    "colab": {
      "provenance": [],
      "include_colab_link": true
    }
  },
  "nbformat": 4,
  "nbformat_minor": 0
}