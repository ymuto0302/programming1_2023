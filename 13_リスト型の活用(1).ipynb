{
  "cells": [
    {
      "cell_type": "markdown",
      "metadata": {
        "id": "view-in-github",
        "colab_type": "text"
      },
      "source": [
        "<a href=\"https://colab.research.google.com/github/ymuto0302/programming1_2023/blob/main/13_%E3%83%AA%E3%82%B9%E3%83%88%E5%9E%8B%E3%81%AE%E6%B4%BB%E7%94%A8(1).ipynb\" target=\"_parent\"><img src=\"https://colab.research.google.com/assets/colab-badge.svg\" alt=\"Open In Colab\"/></a>"
      ]
    },
    {
      "cell_type": "markdown",
      "metadata": {
        "id": "G2YQDAVGFVoJ"
      },
      "source": [
        "# 【解説】13_リスト型の活用(1)：リストの要素の変更／スライス／区切り文字を含む文字列からリストへの変換"
      ]
    },
    {
      "cell_type": "markdown",
      "metadata": {
        "id": "uz3CbxWVFVoc"
      },
      "source": [
        "---\n",
        "### 【課題1】次のようにリストlanguages が定義されている。この中で ”Python” のみ パイソン ” へ変更して出力するコードを書け。**ただし， リストの長さは可変であり，文字列 \"Python\" が出現する位置も任意とする。**\n",
        "```\n",
        "languages = ['Python', 'PHP', 'C++', 'Python', 'Java']\n",
        "```"
      ]
    },
    {
      "cell_type": "code",
      "execution_count": null,
      "metadata": {
        "scrolled": true,
        "id": "UFNnkRT-FVoh",
        "outputId": "df8cdc43-b756-44a5-c383-7a61dcafbf61",
        "colab": {
          "base_uri": "https://localhost:8080/"
        }
      },
      "outputs": [
        {
          "output_type": "stream",
          "name": "stdout",
          "text": [
            "['パイソン', 'PHP', 'C++', 'パイソン', 'Java']\n"
          ]
        }
      ],
      "source": [
        "languages = ['Python', 'PHP', 'C++', 'Python', 'Java']\n",
        "\n",
        "for idx in range(len(languages)):\n",
        "    if languages[idx] == 'Python':\n",
        "        languages[idx] = 'パイソン'\n",
        "\n",
        "print(languages)"
      ]
    },
    {
      "cell_type": "markdown",
      "source": [
        "(解説) リストの個々の要素にアクセスするには，「インデックスを使う方法と「インデックスを使わない方法」がある。\n",
        "\n",
        "<u>インデックスを使う方法：</u>\n",
        "```\n",
        "for idx in range(len(languages)):\n",
        "    print(languages[idx])\n",
        "```\n",
        "\n",
        "<u>インデックスを使わない方法：</u>\n",
        "```\n",
        "for language in languages):\n",
        "    print(language)\n",
        "```\n",
        "\n",
        "この課題では，ループの中で「リスト中の特定位置の値を書き換えた」から，「インデックスを使う方法」が適する。\n",
        "\n",
        "上記のコードでは，\"Python\" という値をもつ要素番号 `idx` が見つかった時点で，`languages[idx] = \"パイソン\"` により上書きしている。"
      ],
      "metadata": {
        "id": "8lowEbL2P_Cg"
      }
    },
    {
      "cell_type": "markdown",
      "source": [
        "(参考) まだ授業で取り上げていないが，リスト内包表記および三項演算子を用いることで以下のように単純に書ける。（可読性が落ちているから，あまりお勧めしないが・・・）"
      ],
      "metadata": {
        "id": "SeQtzMNI7yvA"
      }
    },
    {
      "cell_type": "code",
      "source": [
        "languages = ['Python', 'PHP', 'C++', 'Python', 'Java']\n",
        "\n",
        "['パイソン' if language == 'Python' else language for language in languages]"
      ],
      "metadata": {
        "colab": {
          "base_uri": "https://localhost:8080/"
        },
        "id": "x2KXInDy6YEV",
        "outputId": "5005c4dc-371a-4b3e-9bbe-220aa5a9ad6a"
      },
      "execution_count": null,
      "outputs": [
        {
          "output_type": "execute_result",
          "data": {
            "text/plain": [
              "['パイソン', 'PHP', 'C++', 'パイソン', 'Java']"
            ]
          },
          "metadata": {},
          "execution_count": 5
        }
      ]
    },
    {
      "cell_type": "markdown",
      "metadata": {
        "id": "yLB9G52wFVor"
      },
      "source": [
        "---\n",
        "### 【課題2】以下のように 1 〜 100 の数値の並びを準備する。リスト `digits` に対して， スライスのみを用いて 「偶数のリスト」を作れ。\n",
        "\n",
        "```\n",
        "digits = list(range(1,101))\n",
        "```"
      ]
    },
    {
      "cell_type": "code",
      "source": [
        "digits = list(range(1,101)) # [1, 2, 3, ・・・, 100]\n",
        "print(digits[1::2])"
      ],
      "metadata": {
        "id": "M6P9TGxUYW6D",
        "colab": {
          "base_uri": "https://localhost:8080/"
        },
        "outputId": "a350a992-2658-4810-bdcc-7bbbb1cc8796"
      },
      "execution_count": null,
      "outputs": [
        {
          "output_type": "stream",
          "name": "stdout",
          "text": [
            "[2, 4, 6, 8, 10, 12, 14, 16, 18, 20, 22, 24, 26, 28, 30, 32, 34, 36, 38, 40, 42, 44, 46, 48, 50, 52, 54, 56, 58, 60, 62, 64, 66, 68, 70, 72, 74, 76, 78, 80, 82, 84, 86, 88, 90, 92, 94, 96, 98, 100]\n"
          ]
        }
      ]
    },
    {
      "cell_type": "markdown",
      "source": [
        "(解説) スライスは `リスト[開始位置:終了位置:増分]` という形式で指定する。\n",
        "\n",
        "上記の課題では，偶数が求められているから，最初の数「2」はインデックスでは 1番目に当たる。その後，3番目の「4」，5番目の「6」と進みながら，最後の「100」に到達すればよいから `digits[1::2]` という表現が適切である。\n"
      ],
      "metadata": {
        "id": "3ekXuajXpybA"
      }
    },
    {
      "cell_type": "markdown",
      "source": [
        "---\n",
        "### 【課題3】次のように人名 電話番号 ” が並ぶリスト phones が与えられる。「インデックスを用いた要素の取り出し」および「文字列に対する split() メソッド」を利用し，下記の出力結果を生成せよ。\n",
        "\n",
        "```\n",
        "phones = [\"abe,0836-35-1234\", \"asou,093-123-4567\", \"amari,03-1234-5678\"]\n",
        "```\n",
        "\n",
        "出力結果：\n",
        "```\n",
        "['abe', '0836-35-1234']\n",
        "['asou', '093-123-4567']\n",
        "['amari', '03-1234-5678']\n",
        "```"
      ],
      "metadata": {
        "id": "GapGX36m_Gpi"
      }
    },
    {
      "cell_type": "code",
      "source": [
        "phones = [\"abe,0836-35-1234\", \"asou,093-123-4567\", \"amari,03-1234-5678\"]\n",
        "\n",
        "for idx in range(len(phones)):\n",
        "    phone = phones[idx]\n",
        "    print(phone.split(\",\"))"
      ],
      "metadata": {
        "id": "lqfLHZNFscGF",
        "colab": {
          "base_uri": "https://localhost:8080/"
        },
        "outputId": "bbaba940-82f3-4986-c7a8-d6dad15227e5"
      },
      "execution_count": null,
      "outputs": [
        {
          "output_type": "stream",
          "name": "stdout",
          "text": [
            "['abe', '0836-35-1234']\n",
            "['asou', '093-123-4567']\n",
            "['amari', '03-1234-5678']\n"
          ]
        }
      ]
    },
    {
      "cell_type": "markdown",
      "source": [
        "(解説) 課題１の構造を流用し，かつ「文字列の分割」として `split()` メソッドを利用する。\n",
        "\n",
        "リストのインデックスとして 0 番目を取り出すと，文字列 \"abe,0836-35-1234\" が得られる。この文字列をカンマ「,」を区切り文字として分割し，かつリストにしたいから，`split(\",\")` を用いる。"
      ],
      "metadata": {
        "id": "7G202skRB4gT"
      }
    },
    {
      "cell_type": "markdown",
      "source": [
        "ちなみに「インデックスを用いた要素の取り出し」という縛りがなければ，次のコードでも OK である。"
      ],
      "metadata": {
        "id": "I_0rZimY_2RY"
      }
    },
    {
      "cell_type": "code",
      "source": [
        "phones = [\"abe,0836-35-1234\", \"asou,093-123-4567\", \"amari,03-1234-5678\"]\n",
        "\n",
        "for phone in phones:\n",
        "    print(phone.split(\",\"))"
      ],
      "metadata": {
        "colab": {
          "base_uri": "https://localhost:8080/"
        },
        "id": "-llWC3ME_1M0",
        "outputId": "034de19e-91a8-4b6f-b6c1-910899c591c7"
      },
      "execution_count": null,
      "outputs": [
        {
          "output_type": "stream",
          "name": "stdout",
          "text": [
            "['abe', '0836-35-1234']\n",
            "['asou', '093-123-4567']\n",
            "['amari', '03-1234-5678']\n"
          ]
        }
      ]
    },
    {
      "cell_type": "code",
      "source": [],
      "metadata": {
        "id": "OtrDyLoLADkh"
      },
      "execution_count": null,
      "outputs": []
    }
  ],
  "metadata": {
    "kernelspec": {
      "display_name": "Python 3",
      "language": "python",
      "name": "python3"
    },
    "language_info": {
      "codemirror_mode": {
        "name": "ipython",
        "version": 3
      },
      "file_extension": ".py",
      "mimetype": "text/x-python",
      "name": "python",
      "nbconvert_exporter": "python",
      "pygments_lexer": "ipython3",
      "version": "3.8.5"
    },
    "colab": {
      "provenance": [],
      "include_colab_link": true
    }
  },
  "nbformat": 4,
  "nbformat_minor": 0
}