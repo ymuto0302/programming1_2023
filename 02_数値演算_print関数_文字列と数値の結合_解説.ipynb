{
  "cells": [
    {
      "cell_type": "markdown",
      "metadata": {
        "id": "view-in-github",
        "colab_type": "text"
      },
      "source": [
        "<a href=\"https://colab.research.google.com/github/ymuto0302/programming1_2023/blob/main/02_%E6%95%B0%E5%80%A4%E6%BC%94%E7%AE%97_print%E9%96%A2%E6%95%B0_%E6%96%87%E5%AD%97%E5%88%97%E3%81%A8%E6%95%B0%E5%80%A4%E3%81%AE%E7%B5%90%E5%90%88_%E8%A7%A3%E8%AA%AC.ipynb\" target=\"_parent\"><img src=\"https://colab.research.google.com/assets/colab-badge.svg\" alt=\"Open In Colab\"/></a>"
      ]
    },
    {
      "cell_type": "markdown",
      "metadata": {
        "id": "8na8Hy2HC9va"
      },
      "source": [
        "# 【解説】02_数値演算_print関数_文字列と数値の結合"
      ]
    },
    {
      "cell_type": "markdown",
      "metadata": {
        "id": "6Yj0P-EsC9vd"
      },
      "source": [
        "---\n",
        "##【課題1】次の計算をさせ，その結果を表示せよ。\n",
        "- 18 と 37 の和\n",
        "- 17 と 23 の積\n",
        "- 3 の ４乗\n",
        "- 123 を 45 で割った余り"
      ]
    },
    {
      "cell_type": "code",
      "execution_count": null,
      "metadata": {
        "id": "QM-fHGt2C9ve",
        "outputId": "c0f6ceed-27f6-457c-bb7c-b57657bc568b"
      },
      "outputs": [
        {
          "name": "stdout",
          "output_type": "stream",
          "text": [
            "55\n"
          ]
        }
      ],
      "source": [
        "print(18 + 37)"
      ]
    },
    {
      "cell_type": "code",
      "execution_count": null,
      "metadata": {
        "id": "vxncbjhQC9vf",
        "outputId": "f733426f-3aa6-4831-e6bb-d325d37df493"
      },
      "outputs": [
        {
          "name": "stdout",
          "output_type": "stream",
          "text": [
            "391\n"
          ]
        }
      ],
      "source": [
        "print(17 * 23)"
      ]
    },
    {
      "cell_type": "code",
      "execution_count": null,
      "metadata": {
        "id": "QJJ9Q13CC9vf",
        "outputId": "7de93543-f6ca-4aea-e230-9c92a80b2e51"
      },
      "outputs": [
        {
          "name": "stdout",
          "output_type": "stream",
          "text": [
            "81\n"
          ]
        }
      ],
      "source": [
        "print(3 ** 4)"
      ]
    },
    {
      "cell_type": "code",
      "execution_count": null,
      "metadata": {
        "id": "ZF5KJat2C9vg",
        "outputId": "9b051a09-4fdb-47bf-9870-b20082cd0e44"
      },
      "outputs": [
        {
          "name": "stdout",
          "output_type": "stream",
          "text": [
            "33\n"
          ]
        }
      ],
      "source": [
        "print(123 % 45)"
      ]
    },
    {
      "cell_type": "markdown",
      "source": [
        "(解説) 積を求める演算子は `*` である。\n",
        "また，べき乗には `**`，剰余（余り）には `%` という演算子が用いられることに注意しよう。"
      ],
      "metadata": {
        "id": "GYF4zQJCDEVw"
      }
    },
    {
      "cell_type": "markdown",
      "metadata": {
        "id": "F1_I-E_gC9vg"
      },
      "source": [
        "---\n",
        "## 【課題2】1～10 までの和を 1 + 2 + ・・・ + 10 と記述することで求め，表示せよ。"
      ]
    },
    {
      "cell_type": "code",
      "execution_count": null,
      "metadata": {
        "id": "H2LjXLx3C9vh",
        "outputId": "2d6a39d9-581a-4f78-85e1-be9964113a94"
      },
      "outputs": [
        {
          "name": "stdout",
          "output_type": "stream",
          "text": [
            "55\n"
          ]
        }
      ],
      "source": [
        "print(1+2+3+4+5+6+7+8+9+10)"
      ]
    },
    {
      "cell_type": "markdown",
      "metadata": {
        "id": "AQAuhQhoC9vh"
      },
      "source": [
        "---\n",
        "## 【課題3】文字列”My age is “ と自分の年齢(注：数値で与える）を連結し，“My age is 16” という形で表示する print 文を書け。"
      ]
    },
    {
      "cell_type": "code",
      "execution_count": null,
      "metadata": {
        "colab": {
          "base_uri": "https://localhost:8080/"
        },
        "id": "cM5eajaMC9vh",
        "outputId": "27e2b47c-ee60-434b-bdbe-ad5f2a44c7e1"
      },
      "outputs": [
        {
          "output_type": "stream",
          "name": "stdout",
          "text": [
            "My age is 16\n"
          ]
        }
      ],
      "source": [
        "print(\"My age is \" + str(16))"
      ]
    },
    {
      "cell_type": "markdown",
      "source": [
        "（解説）文字列と数値を結合する場合，`str()` 関数を用いて一時的に文字列 `str(16)` を作ればよい。その後，「文字列の和」＝「文字列の結合」という手順をとる。\n",
        "\n",
        "なお，以下のように `\"My age is\"` の後にスペースを入れないと，ちょっとかっこ悪くなる。"
      ],
      "metadata": {
        "id": "sz4B746dhONZ"
      }
    },
    {
      "cell_type": "code",
      "execution_count": 1,
      "metadata": {
        "id": "k9nr7dHFC9vi",
        "colab": {
          "base_uri": "https://localhost:8080/"
        },
        "outputId": "f8a89b39-468b-41f5-80a7-f447f57a6095"
      },
      "outputs": [
        {
          "output_type": "stream",
          "name": "stdout",
          "text": [
            "My age is16\n"
          ]
        }
      ],
      "source": [
        "print(\"My age is\" + str(16))"
      ]
    }
  ],
  "metadata": {
    "kernelspec": {
      "display_name": "Python 3",
      "language": "python",
      "name": "python3"
    },
    "language_info": {
      "codemirror_mode": {
        "name": "ipython",
        "version": 3
      },
      "file_extension": ".py",
      "mimetype": "text/x-python",
      "name": "python",
      "nbconvert_exporter": "python",
      "pygments_lexer": "ipython3",
      "version": "3.8.5"
    },
    "colab": {
      "provenance": [],
      "include_colab_link": true
    }
  },
  "nbformat": 4,
  "nbformat_minor": 0
}